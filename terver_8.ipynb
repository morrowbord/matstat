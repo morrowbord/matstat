{
  "nbformat": 4,
  "nbformat_minor": 0,
  "metadata": {
    "colab": {
      "name": "terver_8.ipynb",
      "provenance": [],
      "authorship_tag": "ABX9TyO7jRhfpOwL8qpqeQVrT3Fu",
      "include_colab_link": true
    },
    "kernelspec": {
      "name": "python3",
      "display_name": "Python 3"
    },
    "language_info": {
      "name": "python"
    }
  },
  "cells": [
    {
      "cell_type": "markdown",
      "metadata": {
        "id": "view-in-github",
        "colab_type": "text"
      },
      "source": [
        "<a href=\"https://colab.research.google.com/github/morrowbord/matstat/blob/main/terver_8.ipynb\" target=\"_parent\"><img src=\"https://colab.research.google.com/assets/colab-badge.svg\" alt=\"Open In Colab\"/></a>"
      ]
    },
    {
      "cell_type": "markdown",
      "metadata": {
        "id": "8LkZURrJyN_z"
      },
      "source": [
        "**Задача 1**\n",
        "\n",
        "Провести дисперсионный анализ для определения того, есть ли различия среднего роста среди взрослых футболистов, хоккеистов и штангистов. Даны значения роста в трех группах случайно выбранных спортсменов:\n",
        "\n",
        "# football_players = [173, 175, 180, 178, 177, 185, 183, 182]\n",
        "hockey_players = [177, 179, 180, 188, 177, 172, 171, 184, 180]\n",
        "lifters = [172, 173, 169, 177, 166, 180, 178, 177, 172, 166, 170]\n",
        "\n",
        "Задача 2\n",
        "\n",
        "Прикрепите ссылку на курсовой проект на github (см. выбор темы в ДЗ к Уроку 6)."
      ]
    },
    {
      "cell_type": "code",
      "metadata": {
        "id": "JZNtSzPPyfFL"
      },
      "source": [
        "import statistics\n",
        "import pandas as pd\n",
        "import numpy as np\n",
        "from scipy import stats\n",
        "from matplotlib import pyplot as plt"
      ],
      "execution_count": 3,
      "outputs": []
    },
    {
      "cell_type": "code",
      "metadata": {
        "id": "4y4-3i_Txu1W"
      },
      "source": [
        "football_players = pd.DataFrame([173, 175, 180, 178, 177, 185, 183, 182])\n",
        "hockey_players = pd.DataFrame([177, 179, 180, 188, 177, 172, 171, 184, 180])\n",
        "lifters = pd.DataFrame([172, 173, 169, 177, 166, 180, 178, 177, 172, 166, 170])"
      ],
      "execution_count": 4,
      "outputs": []
    },
    {
      "cell_type": "code",
      "metadata": {
        "id": "rh5I88ffymib"
      },
      "source": [
        "y1_mean=football_players[0].mean()\n",
        "y2_mean=hockey_players[0].mean()\n",
        "y3_mean=lifters[0].mean()"
      ],
      "execution_count": 10,
      "outputs": []
    },
    {
      "cell_type": "code",
      "metadata": {
        "colab": {
          "base_uri": "https://localhost:8080/"
        },
        "id": "4jiF5po6S6er",
        "outputId": "0472615c-e5fb-4e2f-f416-6ca4f68a3416"
      },
      "source": [
        "n1 = football_players.shape[0]\n",
        "n2 = hockey_players.shape[0]\n",
        "n3 = lifters.shape[0]\n",
        "n1,n2,n3"
      ],
      "execution_count": 11,
      "outputs": [
        {
          "output_type": "execute_result",
          "data": {
            "text/plain": [
              "(8, 9, 11)"
            ]
          },
          "metadata": {},
          "execution_count": 11
        }
      ]
    },
    {
      "cell_type": "code",
      "metadata": {
        "id": "c0tyRDM9TUtk"
      },
      "source": [
        "y = np.concatenate([football_players, hockey_players, lifters])"
      ],
      "execution_count": 16,
      "outputs": []
    },
    {
      "cell_type": "code",
      "metadata": {
        "colab": {
          "base_uri": "https://localhost:8080/"
        },
        "id": "1KmcCuKlT3WC",
        "outputId": "d587d035-2267-445f-9ae3-7d4c98d9d323"
      },
      "source": [
        "y_mean = y.mean()\n",
        "y_mean"
      ],
      "execution_count": 12,
      "outputs": [
        {
          "output_type": "execute_result",
          "data": {
            "text/plain": [
              "176.46428571428572"
            ]
          },
          "metadata": {},
          "execution_count": 12
        }
      ]
    },
    {
      "cell_type": "code",
      "metadata": {
        "colab": {
          "base_uri": "https://localhost:8080/"
        },
        "id": "34-9XJRQUDj8",
        "outputId": "71dea6ba-3dba-4841-9b7c-929b46d41f68"
      },
      "source": [
        "S2_b = n1 * (y1_mean - y_mean) ** 2 + n2 * (y2_mean - y_mean) ** 2 + n3 * (y3_mean - y_mean) ** 2\n",
        "\n",
        "S2_w = ((football_players - y1_mean) ** 2).sum() + ((hockey_players - y2_mean) ** 2).sum() + ((lifters - y3_mean) ** 2).sum()\n",
        "\n",
        "S2_w[0],S2_b"
      ],
      "execution_count": 44,
      "outputs": [
        {
          "output_type": "execute_result",
          "data": {
            "text/plain": [
              "(577.0568181818182, 253.9074675324678)"
            ]
          },
          "metadata": {},
          "execution_count": 44
        }
      ]
    },
    {
      "cell_type": "markdown",
      "metadata": {
        "id": "Qvmk2t_cWv2G"
      },
      "source": [
        "Проверим выполнение равенства  𝑆2=𝑆2𝑏+𝑆2𝑤:"
      ]
    },
    {
      "cell_type": "code",
      "metadata": {
        "colab": {
          "base_uri": "https://localhost:8080/"
        },
        "id": "dGuhCu4YVOBU",
        "outputId": "7eeff602-3123-4a8d-f497-2346206f609b"
      },
      "source": [
        "print(round(S2_b + S2_w[0],10)==round(((y - y_mean) ** 2).sum(),10))"
      ],
      "execution_count": 43,
      "outputs": [
        {
          "output_type": "stream",
          "name": "stdout",
          "text": [
            "True\n"
          ]
        }
      ]
    },
    {
      "cell_type": "code",
      "metadata": {
        "colab": {
          "base_uri": "https://localhost:8080/"
        },
        "id": "dEgyNHTPUXfu",
        "outputId": "89d370fb-dfe7-4c9a-95d6-2e4115db4954"
      },
      "source": [
        "k = 3\n",
        "n = n1 + n2 + n3\n",
        "\n",
        "k1 = k - 1\n",
        "k2 = n - k\n",
        "\n",
        "sigma2_b = S2_b / k1\n",
        "sigma2_w = S2_w / k2\n",
        "\n",
        "sigma2_b, sigma2_w"
      ],
      "execution_count": 32,
      "outputs": [
        {
          "output_type": "execute_result",
          "data": {
            "text/plain": [
              "(126.9537337662339, 0    23.082273\n",
              " dtype: float64)"
            ]
          },
          "metadata": {},
          "execution_count": 32
        }
      ]
    },
    {
      "cell_type": "code",
      "metadata": {
        "colab": {
          "base_uri": "https://localhost:8080/"
        },
        "id": "wJicF2cVWUhL",
        "outputId": "aaf1b35a-443b-44bd-978c-5e80bfba8111"
      },
      "source": [
        "T = sigma2_b / sigma2_w\n",
        "T"
      ],
      "execution_count": 33,
      "outputs": [
        {
          "output_type": "execute_result",
          "data": {
            "text/plain": [
              "0    5.500053\n",
              "dtype: float64"
            ]
          },
          "metadata": {},
          "execution_count": 33
        }
      ]
    },
    {
      "cell_type": "code",
      "metadata": {
        "id": "uN2fGC6aXRev"
      },
      "source": [
        "Зафиксируем уровень значимости  𝛼=0.05 . Для него найдём критическое значение  𝐹𝑐𝑟𝑖𝑡 :"
      ],
      "execution_count": null,
      "outputs": []
    },
    {
      "cell_type": "code",
      "metadata": {
        "colab": {
          "base_uri": "https://localhost:8080/"
        },
        "id": "wcCX8-HNXSoh",
        "outputId": "9eb938e0-d1bd-4302-cbaa-8f1f0a155746"
      },
      "source": [
        "alpha = 0.05\n",
        "\n",
        "F_crit = stats.f.ppf(1 - alpha, k1, k2)\n",
        "F_crit"
      ],
      "execution_count": 34,
      "outputs": [
        {
          "output_type": "execute_result",
          "data": {
            "text/plain": [
              "3.3851899614491687"
            ]
          },
          "metadata": {},
          "execution_count": 34
        }
      ]
    },
    {
      "cell_type": "code",
      "metadata": {
        "colab": {
          "base_uri": "https://localhost:8080/"
        },
        "id": "queW-mPTXYxS",
        "outputId": "16416c94-1c97-429a-f1c2-37de7352d45b"
      },
      "source": [
        "p = 1 - stats.f.cdf(T, k1, k2)\n",
        "p"
      ],
      "execution_count": 35,
      "outputs": [
        {
          "output_type": "execute_result",
          "data": {
            "text/plain": [
              "array([0.01048221])"
            ]
          },
          "metadata": {},
          "execution_count": 35
        }
      ]
    },
    {
      "cell_type": "code",
      "metadata": {
        "colab": {
          "base_uri": "https://localhost:8080/"
        },
        "id": "VjLRpaUnX7CC",
        "outputId": "02815857-886a-4728-f14d-558351bcd664"
      },
      "source": [
        "from scipy.stats import f_oneway\n",
        "f_oneway(football_players, hockey_players, lifters)"
      ],
      "execution_count": 39,
      "outputs": [
        {
          "output_type": "execute_result",
          "data": {
            "text/plain": [
              "F_onewayResult(statistic=array([5.50005345]), pvalue=array([0.01048221]))"
            ]
          },
          "metadata": {},
          "execution_count": 39
        }
      ]
    },
    {
      "cell_type": "markdown",
      "metadata": {
        "id": "dmIwnEfWXloZ"
      },
      "source": [
        "Видим, что  𝑇>𝐹𝑐𝑟𝑖𝑡 или pvalue < alpha , поэтому заключаем, что отличие средних зарплат действительно является статистически значимым."
      ]
    }
  ]
}