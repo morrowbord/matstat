{
  "nbformat": 4,
  "nbformat_minor": 0,
  "metadata": {
    "colab": {
      "name": "terver-7.ipynb",
      "provenance": [],
      "collapsed_sections": [],
      "authorship_tag": "ABX9TyP5gudpwZCBnUGyWCTBIefZ",
      "include_colab_link": true
    },
    "kernelspec": {
      "name": "python3",
      "display_name": "Python 3"
    },
    "language_info": {
      "name": "python"
    }
  },
  "cells": [
    {
      "cell_type": "markdown",
      "metadata": {
        "id": "view-in-github",
        "colab_type": "text"
      },
      "source": [
        "<a href=\"https://colab.research.google.com/github/morrowbord/matstat/blob/main/terver_7.ipynb\" target=\"_parent\"><img src=\"https://colab.research.google.com/assets/colab-badge.svg\" alt=\"Open In Colab\"/></a>"
      ]
    },
    {
      "cell_type": "code",
      "metadata": {
        "id": "wy83EafxU4xX"
      },
      "source": [
        "import statistics\n",
        "import pandas as pd\n",
        "import numpy as np\n",
        "from scipy import stats\n",
        "from matplotlib import pyplot as plt"
      ],
      "execution_count": 150,
      "outputs": []
    },
    {
      "cell_type": "code",
      "metadata": {
        "id": "kS_T2pSGv6dZ"
      },
      "source": [
        "# Задача 1\n",
        "\n",
        "# Дана матрица объект-признак\n",
        "\n",
        "X = [[ 1.22401313, 2.30868478, 3.03636353, 2.69287214],\n",
        "[-0.18757272, 1.30337355, 5.12093014, 3.46363202],\n",
        "[-0.81094525, 1.82463398, 5.79686488, 1.86159445],\n",
        "[ 0.75129018, 2.67392052, 3.65529809, 1.66746094],\n",
        "[ 0.00972362, 1.97367255, 2.50594319, 1.69755173],\n",
        "[-0.62972637, 0.77750764, 2.84124027, 4.54410559],\n",
        "[ 2.29536229, 1.81206697, 1.95026215, 1.51874636],\n",
        "[ 0.0920418 , 2.26971361, 7.47708735, 2.61081203],\n",
        "[ 2.39252799, 3.17563985, 3.61420599, 5.10773362],\n",
        "[ 0.54983815, 2.87988651, 1.65752765, 1.59635987]]\n",
        "\n",
        "# и значения целевой переменной\n",
        "\n",
        "y = [ 9.26193358, 9.700363 , 8.67214805, 8.74796974, 6.18689108,\n",
        "7.53312713, 7.57643777, 12.44965478, 14.29010746, 6.68361218]\n",
        "\n",
        "# Подберите два признака (из четырёх) так, чтобы уровень линейной зависимости целевой переменной от значений этих признаков был максимальным. Другими словами, модель линейной регрессии на этих признаках должна давать наилучший результат.\n",
        "# Является ли значимым получившееся уравнение регрессии?"
      ],
      "execution_count": 151,
      "outputs": []
    },
    {
      "cell_type": "code",
      "metadata": {
        "colab": {
          "base_uri": "https://localhost:8080/",
          "height": 359
        },
        "id": "j36tU5y2zV8f",
        "outputId": "3671c947-9e87-41e3-f722-a9c95875cfbc"
      },
      "source": [
        "x=pd.DataFrame(X)\n",
        "x"
      ],
      "execution_count": 152,
      "outputs": [
        {
          "output_type": "execute_result",
          "data": {
            "text/html": [
              "<div>\n",
              "<style scoped>\n",
              "    .dataframe tbody tr th:only-of-type {\n",
              "        vertical-align: middle;\n",
              "    }\n",
              "\n",
              "    .dataframe tbody tr th {\n",
              "        vertical-align: top;\n",
              "    }\n",
              "\n",
              "    .dataframe thead th {\n",
              "        text-align: right;\n",
              "    }\n",
              "</style>\n",
              "<table border=\"1\" class=\"dataframe\">\n",
              "  <thead>\n",
              "    <tr style=\"text-align: right;\">\n",
              "      <th></th>\n",
              "      <th>0</th>\n",
              "      <th>1</th>\n",
              "      <th>2</th>\n",
              "      <th>3</th>\n",
              "    </tr>\n",
              "  </thead>\n",
              "  <tbody>\n",
              "    <tr>\n",
              "      <th>0</th>\n",
              "      <td>1.224013</td>\n",
              "      <td>2.308685</td>\n",
              "      <td>3.036364</td>\n",
              "      <td>2.692872</td>\n",
              "    </tr>\n",
              "    <tr>\n",
              "      <th>1</th>\n",
              "      <td>-0.187573</td>\n",
              "      <td>1.303374</td>\n",
              "      <td>5.120930</td>\n",
              "      <td>3.463632</td>\n",
              "    </tr>\n",
              "    <tr>\n",
              "      <th>2</th>\n",
              "      <td>-0.810945</td>\n",
              "      <td>1.824634</td>\n",
              "      <td>5.796865</td>\n",
              "      <td>1.861594</td>\n",
              "    </tr>\n",
              "    <tr>\n",
              "      <th>3</th>\n",
              "      <td>0.751290</td>\n",
              "      <td>2.673921</td>\n",
              "      <td>3.655298</td>\n",
              "      <td>1.667461</td>\n",
              "    </tr>\n",
              "    <tr>\n",
              "      <th>4</th>\n",
              "      <td>0.009724</td>\n",
              "      <td>1.973673</td>\n",
              "      <td>2.505943</td>\n",
              "      <td>1.697552</td>\n",
              "    </tr>\n",
              "    <tr>\n",
              "      <th>5</th>\n",
              "      <td>-0.629726</td>\n",
              "      <td>0.777508</td>\n",
              "      <td>2.841240</td>\n",
              "      <td>4.544106</td>\n",
              "    </tr>\n",
              "    <tr>\n",
              "      <th>6</th>\n",
              "      <td>2.295362</td>\n",
              "      <td>1.812067</td>\n",
              "      <td>1.950262</td>\n",
              "      <td>1.518746</td>\n",
              "    </tr>\n",
              "    <tr>\n",
              "      <th>7</th>\n",
              "      <td>0.092042</td>\n",
              "      <td>2.269714</td>\n",
              "      <td>7.477087</td>\n",
              "      <td>2.610812</td>\n",
              "    </tr>\n",
              "    <tr>\n",
              "      <th>8</th>\n",
              "      <td>2.392528</td>\n",
              "      <td>3.175640</td>\n",
              "      <td>3.614206</td>\n",
              "      <td>5.107734</td>\n",
              "    </tr>\n",
              "    <tr>\n",
              "      <th>9</th>\n",
              "      <td>0.549838</td>\n",
              "      <td>2.879887</td>\n",
              "      <td>1.657528</td>\n",
              "      <td>1.596360</td>\n",
              "    </tr>\n",
              "  </tbody>\n",
              "</table>\n",
              "</div>"
            ],
            "text/plain": [
              "          0         1         2         3\n",
              "0  1.224013  2.308685  3.036364  2.692872\n",
              "1 -0.187573  1.303374  5.120930  3.463632\n",
              "2 -0.810945  1.824634  5.796865  1.861594\n",
              "3  0.751290  2.673921  3.655298  1.667461\n",
              "4  0.009724  1.973673  2.505943  1.697552\n",
              "5 -0.629726  0.777508  2.841240  4.544106\n",
              "6  2.295362  1.812067  1.950262  1.518746\n",
              "7  0.092042  2.269714  7.477087  2.610812\n",
              "8  2.392528  3.175640  3.614206  5.107734\n",
              "9  0.549838  2.879887  1.657528  1.596360"
            ]
          },
          "metadata": {},
          "execution_count": 152
        }
      ]
    },
    {
      "cell_type": "code",
      "metadata": {
        "id": "4rJ_TLyBNqWD"
      },
      "source": [
        "y=pd.DataFrame(y)"
      ],
      "execution_count": 153,
      "outputs": []
    },
    {
      "cell_type": "code",
      "metadata": {
        "id": "UC6p8HxZfvlx"
      },
      "source": [
        "x01=x[[0,1]]\n",
        "x02=x[[0,2]]\n",
        "x03=x[[0,3]]\n",
        "x23=x[[2,3]]\n",
        "x13=x[[1,3]]\n",
        "x12=x[[1,2]]"
      ],
      "execution_count": 154,
      "outputs": []
    },
    {
      "cell_type": "code",
      "metadata": {
        "colab": {
          "base_uri": "https://localhost:8080/"
        },
        "id": "Y_CKnfje3ucj",
        "outputId": "06eb8d89-bc8b-4433-dea1-b4d07ac9571e"
      },
      "source": [
        "from sklearn.linear_model import LinearRegression\n",
        "model1 = LinearRegression().fit(x01, y)\n",
        "model1.intercept_, model1.coef_"
      ],
      "execution_count": 155,
      "outputs": [
        {
          "output_type": "execute_result",
          "data": {
            "text/plain": [
              "(array([6.70781579]), array([[0.40786841, 1.03360247]]))"
            ]
          },
          "metadata": {},
          "execution_count": 155
        }
      ]
    },
    {
      "cell_type": "code",
      "metadata": {
        "colab": {
          "base_uri": "https://localhost:8080/"
        },
        "id": "OOUnhbJ0QLx9",
        "outputId": "9639ecb1-7066-4958-c17a-0eb8dca3d9a1"
      },
      "source": [
        "model1.score(x01, y)"
      ],
      "execution_count": 156,
      "outputs": [
        {
          "output_type": "execute_result",
          "data": {
            "text/plain": [
              "0.18113594742585204"
            ]
          },
          "metadata": {},
          "execution_count": 156
        }
      ]
    },
    {
      "cell_type": "code",
      "metadata": {
        "colab": {
          "base_uri": "https://localhost:8080/"
        },
        "id": "JPyZlM7rkfc-",
        "outputId": "946662f9-38ce-4cab-f934-fc070f029335"
      },
      "source": [
        "model2 = LinearRegression().fit(x02, y)\n",
        "model2.intercept_, model2.coef_"
      ],
      "execution_count": 157,
      "outputs": [
        {
          "output_type": "execute_result",
          "data": {
            "text/plain": [
              "(array([3.62455695]), array([[1.62531203, 1.21134979]]))"
            ]
          },
          "metadata": {},
          "execution_count": 157
        }
      ]
    },
    {
      "cell_type": "code",
      "metadata": {
        "colab": {
          "base_uri": "https://localhost:8080/"
        },
        "id": "NzjyzMC5Q4Dx",
        "outputId": "cbe7ae59-cc2b-4798-e717-7f9c6eec432b"
      },
      "source": [
        "max_r2=model2.score(x02, y)\n",
        "max_r2"
      ],
      "execution_count": 158,
      "outputs": [
        {
          "output_type": "execute_result",
          "data": {
            "text/plain": [
              "0.7634246238793151"
            ]
          },
          "metadata": {},
          "execution_count": 158
        }
      ]
    },
    {
      "cell_type": "code",
      "metadata": {
        "colab": {
          "base_uri": "https://localhost:8080/"
        },
        "id": "C-fjsMjHlHCk",
        "outputId": "90badafe-0371-4a46-a479-c0a3a12719f1"
      },
      "source": [
        "model3 = LinearRegression().fit(x03, y)\n",
        "model3.intercept_, model3.coef_"
      ],
      "execution_count": 159,
      "outputs": [
        {
          "output_type": "execute_result",
          "data": {
            "text/plain": [
              "(array([5.70686123]), array([[0.68359949, 1.12650707]]))"
            ]
          },
          "metadata": {},
          "execution_count": 159
        }
      ]
    },
    {
      "cell_type": "code",
      "metadata": {
        "colab": {
          "base_uri": "https://localhost:8080/"
        },
        "id": "ovLxCsrAQ8yL",
        "outputId": "1dec245a-9698-4c4d-b92e-4c526c1bdf66"
      },
      "source": [
        "model3.score(x03, y)"
      ],
      "execution_count": 160,
      "outputs": [
        {
          "output_type": "execute_result",
          "data": {
            "text/plain": [
              "0.4532966783144078"
            ]
          },
          "metadata": {},
          "execution_count": 160
        }
      ]
    },
    {
      "cell_type": "code",
      "metadata": {
        "colab": {
          "base_uri": "https://localhost:8080/"
        },
        "id": "P64GaUdzlR3d",
        "outputId": "7e0eeede-a927-4796-b639-fdeec7b0d58c"
      },
      "source": [
        "model4 = LinearRegression().fit(x12, y)\n",
        "model4.intercept_, model4.coef_"
      ],
      "execution_count": 161,
      "outputs": [
        {
          "output_type": "execute_result",
          "data": {
            "text/plain": [
              "(array([2.48896193]), array([[1.60611956, 0.86269915]]))"
            ]
          },
          "metadata": {},
          "execution_count": 161
        }
      ]
    },
    {
      "cell_type": "code",
      "metadata": {
        "colab": {
          "base_uri": "https://localhost:8080/"
        },
        "id": "xuWwlchzRCqC",
        "outputId": "a61107b0-0908-413e-b8ba-9000d4563b39"
      },
      "source": [
        "model4.score(x12, y)"
      ],
      "execution_count": 162,
      "outputs": [
        {
          "output_type": "execute_result",
          "data": {
            "text/plain": [
              "0.547948273403901"
            ]
          },
          "metadata": {},
          "execution_count": 162
        }
      ]
    },
    {
      "cell_type": "code",
      "metadata": {
        "colab": {
          "base_uri": "https://localhost:8080/"
        },
        "id": "e0xHIklG11Wg",
        "outputId": "6f24dea4-72fb-4077-8774-1231767c6b15"
      },
      "source": [
        "model5 = LinearRegression().fit(x13, y)\n",
        "model5.intercept_, model5.coef_"
      ],
      "execution_count": 163,
      "outputs": [
        {
          "output_type": "execute_result",
          "data": {
            "text/plain": [
              "(array([1.91685221]), array([[1.74373667, 1.31971882]]))"
            ]
          },
          "metadata": {},
          "execution_count": 163
        }
      ]
    },
    {
      "cell_type": "code",
      "metadata": {
        "colab": {
          "base_uri": "https://localhost:8080/"
        },
        "id": "W3GtaUFxRIR2",
        "outputId": "cd711019-8b75-4565-dfe3-52fafdd32962"
      },
      "source": [
        "model5.score(x13, y)"
      ],
      "execution_count": 164,
      "outputs": [
        {
          "output_type": "execute_result",
          "data": {
            "text/plain": [
              "0.6062055761129932"
            ]
          },
          "metadata": {},
          "execution_count": 164
        }
      ]
    },
    {
      "cell_type": "code",
      "metadata": {
        "colab": {
          "base_uri": "https://localhost:8080/"
        },
        "id": "9kqyakSK2AIE",
        "outputId": "5156c88a-23a3-4620-dad4-873bdbeeb6f7"
      },
      "source": [
        "model6 = LinearRegression().fit(x23, y)\n",
        "model6.intercept_, model6.coef_"
      ],
      "execution_count": 165,
      "outputs": [
        {
          "output_type": "execute_result",
          "data": {
            "text/plain": [
              "(array([3.64001086]), array([[0.70753914, 1.04851745]]))"
            ]
          },
          "metadata": {},
          "execution_count": 165
        }
      ]
    },
    {
      "cell_type": "code",
      "metadata": {
        "colab": {
          "base_uri": "https://localhost:8080/"
        },
        "id": "va02ZwilRM3C",
        "outputId": "5c0b86ee-7557-4544-efb9-ed0d017b234b"
      },
      "source": [
        "model6.score(x23, y)"
      ],
      "execution_count": 166,
      "outputs": [
        {
          "output_type": "execute_result",
          "data": {
            "text/plain": [
              "0.622441987650532"
            ]
          },
          "metadata": {},
          "execution_count": 166
        }
      ]
    },
    {
      "cell_type": "code",
      "metadata": {
        "id": "Nz7eiTuRRQ7J"
      },
      "source": [
        "# Является ли значимым получившееся уравнение регрессии для model2 ?"
      ],
      "execution_count": 167,
      "outputs": []
    },
    {
      "cell_type": "code",
      "metadata": {
        "colab": {
          "base_uri": "https://localhost:8080/"
        },
        "id": "QAmhFomlm_3i",
        "outputId": "23bc0882-6cf1-4e26-c6e1-c399062c450a"
      },
      "source": [
        "n = x02.shape[0]\n",
        "m = x02.shape[1]\n",
        "\n",
        "k1 = m\n",
        "k2 = n - m - 1\n",
        "\n",
        "k1, k2"
      ],
      "execution_count": 168,
      "outputs": [
        {
          "output_type": "execute_result",
          "data": {
            "text/plain": [
              "(2, 7)"
            ]
          },
          "metadata": {},
          "execution_count": 168
        }
      ]
    },
    {
      "cell_type": "markdown",
      "metadata": {
        "id": "Mq7wI0Na1MR2"
      },
      "source": [
        "Возьмём уровень значимости alpha = 0.05."
      ]
    },
    {
      "cell_type": "code",
      "metadata": {
        "colab": {
          "base_uri": "https://localhost:8080/"
        },
        "id": "n_pbnUHYaOJP",
        "outputId": "8883b06c-0875-4904-8251-fbef202641e6"
      },
      "source": [
        "alpha = 0.05\n",
        "t = stats.f.ppf(1 - alpha, k1, k2)\n",
        "t"
      ],
      "execution_count": 169,
      "outputs": [
        {
          "output_type": "execute_result",
          "data": {
            "text/plain": [
              "4.73741412777588"
            ]
          },
          "metadata": {},
          "execution_count": 169
        }
      ]
    },
    {
      "cell_type": "code",
      "metadata": {
        "colab": {
          "base_uri": "https://localhost:8080/"
        },
        "id": "UbvaajWxpUnJ",
        "outputId": "34a2ee33-1726-4d28-e28d-873be7e82db3"
      },
      "source": [
        "F = (max_r2/m) / ((1 - max_r2) / k2)\n",
        "F"
      ],
      "execution_count": 170,
      "outputs": [
        {
          "output_type": "execute_result",
          "data": {
            "text/plain": [
              "11.294439122922642"
            ]
          },
          "metadata": {},
          "execution_count": 170
        }
      ]
    },
    {
      "cell_type": "markdown",
      "metadata": {
        "id": "1H3WjLjEzcxu"
      },
      "source": [
        "Статистика F>4.73 -значит она попала в критическую область, уравнение регрессии признаётся значимым."
      ]
    },
    {
      "cell_type": "code",
      "metadata": {
        "colab": {
          "base_uri": "https://localhost:8080/"
        },
        "id": "yE2EcSHXqJCf",
        "outputId": "d1b36fdf-cb23-4cd5-8a38-6eeeb01fe2ea"
      },
      "source": [
        "import statsmodels.api as sm\n",
        "const=sm.add_constant(x02,model2.intercept_)\n",
        "model = sm.OLS(y,const)\n",
        "results = model.fit()\n",
        "print(results.summary())"
      ],
      "execution_count": 171,
      "outputs": [
        {
          "output_type": "stream",
          "name": "stdout",
          "text": [
            "                            OLS Regression Results                            \n",
            "==============================================================================\n",
            "Dep. Variable:                      0   R-squared:                       0.763\n",
            "Model:                            OLS   Adj. R-squared:                  0.696\n",
            "Method:                 Least Squares   F-statistic:                     11.29\n",
            "Date:                Fri, 17 Sep 2021   Prob (F-statistic):            0.00644\n",
            "Time:                        08:33:01   Log-Likelihood:                -15.767\n",
            "No. Observations:                  10   AIC:                             37.53\n",
            "Df Residuals:                       7   BIC:                             38.44\n",
            "Df Model:                           2                                         \n",
            "Covariance Type:            nonrobust                                         \n",
            "==============================================================================\n",
            "                 coef    std err          t      P>|t|      [0.025      0.975]\n",
            "------------------------------------------------------------------------------\n",
            "const          3.6246      1.261      2.875      0.024       0.643       6.606\n",
            "0              1.6253      0.459      3.542      0.009       0.540       2.710\n",
            "2              1.2113      0.278      4.351      0.003       0.553       1.870\n",
            "==============================================================================\n",
            "Omnibus:                        1.625   Durbin-Watson:                   2.459\n",
            "Prob(Omnibus):                  0.444   Jarque-Bera (JB):                0.302\n",
            "Skew:                           0.418   Prob(JB):                        0.860\n",
            "Kurtosis:                       3.161   Cond. No.                         12.7\n",
            "==============================================================================\n",
            "\n",
            "Warnings:\n",
            "[1] Standard Errors assume that the covariance matrix of the errors is correctly specified.\n"
          ]
        },
        {
          "output_type": "stream",
          "name": "stderr",
          "text": [
            "/usr/local/lib/python3.7/dist-packages/scipy/stats/stats.py:1535: UserWarning: kurtosistest only valid for n>=20 ... continuing anyway, n=10\n",
            "  \"anyway, n=%i\" % int(n))\n"
          ]
        }
      ]
    },
    {
      "cell_type": "markdown",
      "metadata": {
        "id": "LVLmwQaAzwHc"
      },
      "source": [
        "p-value = 0.00644 < alfa - гипотеза о незначимости коэфф. не подтвердилась. Gолучившееся уравнение регрессии - значимое"
      ]
    },
    {
      "cell_type": "markdown",
      "metadata": {
        "id": "PhXcbQsl4P5C"
      },
      "source": [
        "**Задача 2**\n",
        "\n",
        "Даны значения величины заработной платы заемщиков банка (salary) и значения их поведенческого кредитного скоринга (scoring):\n",
        "\n",
        "`salary = [35, 45, 190, 200, 40, 70, 54, 150, 120, 110]`\n",
        "\n",
        "`scoring = [401, 574, 874, 919, 459, 739, 653, 902, 746, 832]`\n",
        "Возьмём в качестве признака значение salary, а в качестве целевой переменной - scoring.\n",
        "\n",
        "Найдите коэффициенты линейной регрессии с помощью формул для парной \n",
        "регрессии, а затем с помощью метода наименьших квадратов.\n",
        "Постройте scatter plot по данным и отметьте на нём прямую линейной регрессии, полученную в п. 1.\n",
        "Посчитайте коэффициент детерминации.\n",
        "Оцените построенное уравнение регрессии с помощью F-критерия Фишера.\n",
        "(доп) Посчитать среднюю ошибку аппроксимации"
      ]
    },
    {
      "cell_type": "code",
      "metadata": {
        "id": "IlLd4iAc4Tdy"
      },
      "source": [
        "x= np.array([35, 45, 190, 200, 40, 70, 54, 150, 120, 110])\n",
        "y= np.array([401, 574, 874, 919, 459, 739, 653, 902, 746, 832])"
      ],
      "execution_count": 172,
      "outputs": []
    },
    {
      "cell_type": "markdown",
      "metadata": {
        "id": "fONfRjbx-Csm"
      },
      "source": [
        "метод парной регрессии для коэфф. a и b "
      ]
    },
    {
      "cell_type": "code",
      "metadata": {
        "colab": {
          "base_uri": "https://localhost:8080/"
        },
        "id": "omh_eA_xYfg8",
        "outputId": "50957513-a748-41f2-f1b9-393c3383b686"
      },
      "source": [
        "b1 = (np.mean(x * y) - np.mean(x) * np.mean(y)) / (np.mean(x ** 2) - np.mean(x) ** 2)\n",
        "b0 = np.mean(y) - b1 * np.mean(x)\n",
        "\n",
        "b0, b1"
      ],
      "execution_count": 173,
      "outputs": [
        {
          "output_type": "execute_result",
          "data": {
            "text/plain": [
              "(444.1773573243596, 2.620538882402765)"
            ]
          },
          "metadata": {},
          "execution_count": 173
        }
      ]
    },
    {
      "cell_type": "code",
      "metadata": {
        "colab": {
          "base_uri": "https://localhost:8080/",
          "height": 276
        },
        "id": "GaSmjhiX7wvb",
        "outputId": "28f0ec14-d628-4575-a902-cd14cc25016e"
      },
      "source": [
        "plt.style.use('seaborn-whitegrid')\n",
        "ox = x\n",
        "oy = b0 + b1 * ox\n",
        "\n",
        "plt.scatter(x, y)\n",
        "plt.plot(ox, oy, color='green', alpha=0.5)\n",
        "\n",
        "plt.xlabel('зп')\n",
        "plt.ylabel('скоринг');\n"
      ],
      "execution_count": 174,
      "outputs": [
        {
          "output_type": "display_data",
          "data": {
            "image/png": "[encoded data removed]",
            "text/plain": [
              "<Figure size 432x288 with 1 Axes>"
            ]
          },
          "metadata": {}
        }
      ]
    },
    {
      "cell_type": "markdown",
      "metadata": {
        "id": "6Ut3VekW-WUa"
      },
      "source": [
        "метод наименьших квадратов для коэфф. a и b "
      ]
    },
    {
      "cell_type": "code",
      "metadata": {
        "id": "TnD6UrzR_ExF"
      },
      "source": [
        "x= pd.DataFrame([35, 45, 190, 200, 40, 70, 54, 150, 120, 110])\n",
        "y= pd.DataFrame([401, 574, 874, 919, 459, 739, 653, 902, 746, 832])"
      ],
      "execution_count": 175,
      "outputs": []
    },
    {
      "cell_type": "code",
      "metadata": {
        "id": "KDzItujb-A0O"
      },
      "source": [
        "ones = np.ones((x.shape[0], 1))\n",
        "# xx=x\n",
        "x = np.hstack((ones, x))"
      ],
      "execution_count": 176,
      "outputs": []
    },
    {
      "cell_type": "code",
      "metadata": {
        "colab": {
          "base_uri": "https://localhost:8080/"
        },
        "id": "W92cQ_u0BJWd",
        "outputId": "018f2de4-cfda-420f-bb34-adeb8be12a3c"
      },
      "source": [
        "XTX = x.T.dot(x)\n",
        "\n",
        "np.linalg.det(XTX)"
      ],
      "execution_count": 177,
      "outputs": [
        {
          "output_type": "execute_result",
          "data": {
            "text/plain": [
              "349464.00000000023"
            ]
          },
          "metadata": {},
          "execution_count": 177
        }
      ]
    },
    {
      "cell_type": "code",
      "metadata": {
        "colab": {
          "base_uri": "https://localhost:8080/"
        },
        "id": "qTVaSlkjBPK8",
        "outputId": "5c784c05-df03-425e-f1bb-06ef99d13a70"
      },
      "source": [
        "# Определитель не близок к нулю, поэтому проблем с методом нет. Коэффициенты модели:\n",
        "XTX_inv = np.linalg.inv(XTX)\n",
        "b = XTX_inv.dot(x.T).dot(y)\n",
        "print(b)"
      ],
      "execution_count": 178,
      "outputs": [
        {
          "output_type": "stream",
          "name": "stdout",
          "text": [
            "[[444.17735732]\n",
            " [  2.62053888]]\n"
          ]
        }
      ]
    },
    {
      "cell_type": "markdown",
      "metadata": {
        "id": "SuXwSfqeCpf3"
      },
      "source": [
        "проверка"
      ]
    },
    {
      "cell_type": "code",
      "metadata": {
        "colab": {
          "base_uri": "https://localhost:8080/"
        },
        "id": "vHJAqEmVB1J5",
        "outputId": "748c2947-3b9f-44a8-9bca-074daa283320"
      },
      "source": [
        "modelx = LinearRegression().fit(x, y)\n",
        "print(type(modelx))\n",
        "modelx.intercept_, modelx.coef_"
      ],
      "execution_count": 179,
      "outputs": [
        {
          "output_type": "stream",
          "name": "stdout",
          "text": [
            "<class 'sklearn.linear_model._base.LinearRegression'>\n"
          ]
        },
        {
          "output_type": "execute_result",
          "data": {
            "text/plain": [
              "(array([444.17735732]), array([[0.        , 2.62053888]]))"
            ]
          },
          "metadata": {},
          "execution_count": 179
        }
      ]
    },
    {
      "cell_type": "markdown",
      "metadata": {
        "id": "MO6c-hxU4ygA"
      },
      "source": [
        "найдем r^2"
      ]
    },
    {
      "cell_type": "code",
      "metadata": {
        "id": "7fEUmG356ZO-"
      },
      "source": [
        "r2=modelx.score(x,y)"
      ],
      "execution_count": 190,
      "outputs": []
    },
    {
      "cell_type": "code",
      "metadata": {
        "colab": {
          "base_uri": "https://localhost:8080/"
        },
        "id": "oT5pQYuK4uDU",
        "outputId": "2d726e31-9c73-4231-a866-c42218abeb58"
      },
      "source": [
        "import statsmodels.api as sm\n",
        "model = sm.OLS(y, x)\n",
        "results = model.fit()\n",
        "print(results.summary())"
      ],
      "execution_count": 183,
      "outputs": [
        {
          "output_type": "stream",
          "name": "stdout",
          "text": [
            "                            OLS Regression Results                            \n",
            "==============================================================================\n",
            "Dep. Variable:                      0   R-squared:                       0.788\n",
            "Model:                            OLS   Adj. R-squared:                  0.761\n",
            "Method:                 Least Squares   F-statistic:                     29.67\n",
            "Date:                Fri, 17 Sep 2021   Prob (F-statistic):           0.000611\n",
            "Time:                        08:33:01   Log-Likelihood:                -58.064\n",
            "No. Observations:                  10   AIC:                             120.1\n",
            "Df Residuals:                       8   BIC:                             120.7\n",
            "Df Model:                           1                                         \n",
            "Covariance Type:            nonrobust                                         \n",
            "==============================================================================\n",
            "                 coef    std err          t      P>|t|      [0.025      0.975]\n",
            "------------------------------------------------------------------------------\n",
            "const        444.1774     56.466      7.866      0.000     313.965     574.389\n",
            "x1             2.6205      0.481      5.447      0.001       1.511       3.730\n",
            "==============================================================================\n",
            "Omnibus:                        1.365   Durbin-Watson:                   1.407\n",
            "Prob(Omnibus):                  0.505   Jarque-Bera (JB):                0.725\n",
            "Skew:                          -0.130   Prob(JB):                        0.696\n",
            "Kurtosis:                       1.707   Cond. No.                         233.\n",
            "==============================================================================\n",
            "\n",
            "Warnings:\n",
            "[1] Standard Errors assume that the covariance matrix of the errors is correctly specified.\n"
          ]
        },
        {
          "output_type": "stream",
          "name": "stderr",
          "text": [
            "/usr/local/lib/python3.7/dist-packages/scipy/stats/stats.py:1535: UserWarning: kurtosistest only valid for n>=20 ... continuing anyway, n=10\n",
            "  \"anyway, n=%i\" % int(n))\n"
          ]
        }
      ]
    },
    {
      "cell_type": "code",
      "metadata": {
        "colab": {
          "base_uri": "https://localhost:8080/"
        },
        "id": "t9ew_oFA5sna",
        "outputId": "22b29fa8-4fad-4d81-e2bf-cdf258d6b6dd"
      },
      "source": [
        "# Оцените построенное уравнение регрессии с помощью F-критерия Фишера\n",
        "n = x.shape[0]\n",
        "m = x.shape[1] - 1#(вычитаем столбец единиц!)\n",
        "\n",
        "k1 = m\n",
        "k2 = n - m - 1\n",
        "\n",
        "k1, k2"
      ],
      "execution_count": 203,
      "outputs": [
        {
          "output_type": "execute_result",
          "data": {
            "text/plain": [
              "(1, 8)"
            ]
          },
          "metadata": {},
          "execution_count": 203
        }
      ]
    },
    {
      "cell_type": "code",
      "metadata": {
        "colab": {
          "base_uri": "https://localhost:8080/"
        },
        "id": "QmXzfPN47xAv",
        "outputId": "1f59a3b8-859f-4b9a-f407-1b6a1cd7d397"
      },
      "source": [
        "alpha = 0.05\n",
        "f = stats.f.ppf(1 - alpha, k1, k2)\n",
        "f"
      ],
      "execution_count": 201,
      "outputs": [
        {
          "output_type": "execute_result",
          "data": {
            "text/plain": [
              "5.317655071578714"
            ]
          },
          "metadata": {},
          "execution_count": 201
        }
      ]
    },
    {
      "cell_type": "code",
      "metadata": {
        "colab": {
          "base_uri": "https://localhost:8080/"
        },
        "id": "Xd2LBW198xmY",
        "outputId": "6dad0686-7388-462b-c4b5-61c029a03ce3"
      },
      "source": [
        "F = (r2/m) / ((1 - r2) / k2)\n",
        "F"
      ],
      "execution_count": 202,
      "outputs": [
        {
          "output_type": "execute_result",
          "data": {
            "text/plain": [
              "29.67164085966449"
            ]
          },
          "metadata": {},
          "execution_count": 202
        }
      ]
    },
    {
      "cell_type": "markdown",
      "metadata": {
        "id": "luj_bKCI9CQa"
      },
      "source": [
        "F>f - уравнение значимое, коэфф детерминации не равен нулю."
      ]
    },
    {
      "cell_type": "markdown",
      "metadata": {
        "id": "3tLBRohf_7_E"
      },
      "source": [
        "**Посчитаем среднюю ошибку аппроксимации:**"
      ]
    },
    {
      "cell_type": "code",
      "metadata": {
        "id": "RCuF6bda9BoC"
      },
      "source": [
        "def mean_approximation_error(y_real, y_pred):\n",
        "    return np.abs((y_real - y_pred) / y_real).mean()"
      ],
      "execution_count": 205,
      "outputs": []
    },
    {
      "cell_type": "code",
      "metadata": {
        "colab": {
          "base_uri": "https://localhost:8080/"
        },
        "id": "MPKsDor1_mXu",
        "outputId": "8d9fec04-bf73-4410-87a3-753ae3168975"
      },
      "source": [
        "mean_approximation_error(y, z)"
      ],
      "execution_count": 206,
      "outputs": [
        {
          "output_type": "execute_result",
          "data": {
            "text/plain": [
              "0    0.114693\n",
              "dtype: float64"
            ]
          },
          "metadata": {},
          "execution_count": 206
        }
      ]
    }
  ]
}