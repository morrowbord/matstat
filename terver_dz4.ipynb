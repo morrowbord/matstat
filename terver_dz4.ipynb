{
  "nbformat": 4,
  "nbformat_minor": 0,
  "metadata": {
    "colab": {
      "name": "terver-dz4.ipynb",
      "provenance": [],
      "collapsed_sections": [],
      "authorship_tag": "ABX9TyPBa8lgzw3m7Q0MxmfutoQX",
      "include_colab_link": true
    },
    "kernelspec": {
      "name": "python3",
      "display_name": "Python 3"
    },
    "language_info": {
      "name": "python"
    }
  },
  "cells": [
    {
      "cell_type": "markdown",
      "metadata": {
        "id": "view-in-github",
        "colab_type": "text"
      },
      "source": [
        "<a href=\"https://colab.research.google.com/github/morrowbord/matstat/blob/main/terver_dz4.ipynb\" target=\"_parent\"><img src=\"https://colab.research.google.com/assets/colab-badge.svg\" alt=\"Open In Colab\"/></a>"
      ]
    },
    {
      "cell_type": "markdown",
      "metadata": {
        "id": "BEf1JzIgJe-i"
      },
      "source": [
        "Задача 1\n",
        "\n",
        "О непрерывной равномерно распределенной случайной величине B известно, что ее дисперсия равна 0.2. Можно ли найти правую границу величины B и ее среднее значение зная, что левая граница равна 0.5? Если да, найдите ее."
      ]
    },
    {
      "cell_type": "code",
      "metadata": {
        "id": "kO0hhU-XJdhz"
      },
      "source": [
        "import statistics\n",
        "import pandas as pd\n",
        "import numpy as np\n",
        "D=0.2\n",
        "sigma=np.sqrt(0.2)"
      ],
      "execution_count": null,
      "outputs": []
    },
    {
      "cell_type": "markdown",
      "metadata": {
        "id": "rWeTPS0ICDXe"
      },
      "source": [
        "Математическое ожидание M(X)=(a+b)/2, дисперсия D(X)=(b−a)^2/12,\n",
        "cреднее квадратическое отклонение σ(X)=(b−a)/2√3."
      ]
    },
    {
      "cell_type": "code",
      "metadata": {
        "colab": {
          "base_uri": "https://localhost:8080/"
        },
        "id": "YMZP36saCIka",
        "outputId": "1f2a0d2d-5f36-484c-d8f6-8c88f2d2acfa"
      },
      "source": [
        "a=0.5 - np.sqrt(0.2*12)\n",
        "a"
      ],
      "execution_count": null,
      "outputs": [
        {
          "output_type": "execute_result",
          "data": {
            "text/plain": [
              "-1.0491933384829668"
            ]
          },
          "metadata": {},
          "execution_count": 3
        }
      ]
    },
    {
      "cell_type": "markdown",
      "metadata": {
        "id": "rxJNNmbyIQlm"
      },
      "source": [
        "найдем среднее значение"
      ]
    },
    {
      "cell_type": "code",
      "metadata": {
        "colab": {
          "base_uri": "https://localhost:8080/"
        },
        "id": "2l8ukEMiGa7V",
        "outputId": "6b9b891b-ee7c-413c-ebdb-0c61d8182843"
      },
      "source": [
        "M=(a+0.5)/2\n",
        "M"
      ],
      "execution_count": null,
      "outputs": [
        {
          "output_type": "execute_result",
          "data": {
            "text/plain": [
              "-0.2745966692414834"
            ]
          },
          "metadata": {},
          "execution_count": 4
        }
      ]
    },
    {
      "cell_type": "markdown",
      "metadata": {
        "id": "qgDnd1cSKNBv"
      },
      "source": [
        "Задача 2\n",
        "\n",
        "Рост взрослого населения города X имеет нормальное распределение, причем, средний рост равен 174 см, а среднее квадратическое отклонение равно 8 см. посчитайте, какова вероятность того, что случайным образом выбранный взрослый человек имеет рост:\n",
        "1. больше 182 см?\n",
        "2. больше 190 см?\n",
        "3. от 166 см до 190 см?\n",
        "4. от 166 см до 182 см?\n",
        "5. от 158 см до 190 см?\n",
        "6. не выше 150 см или не ниже 190 см?\n",
        "7. не выше 150 см или не ниже 198 см?\n",
        "8. ниже 166 см?\n",
        "\n",
        "Задачу можно решить двумя способами: без использования сторонних библиотек (numpy, scipy, pandas и пр.), а затем проверить себя с помощью встроенных функций"
      ]
    },
    {
      "cell_type": "code",
      "metadata": {
        "id": "BMwAh7s6kLhd"
      },
      "source": [
        "from scipy import stats\n",
        "from matplotlib import pyplot as plt"
      ],
      "execution_count": null,
      "outputs": []
    },
    {
      "cell_type": "code",
      "metadata": {
        "id": "yI24RmjeGX9Y"
      },
      "source": [
        "mu = 174\n",
        "sigma = 8"
      ],
      "execution_count": null,
      "outputs": []
    },
    {
      "cell_type": "code",
      "metadata": {
        "colab": {
          "base_uri": "https://localhost:8080/"
        },
        "id": "panjduvIFvpv",
        "outputId": "6339d569-84c8-4d04-d6d6-707457923e7d"
      },
      "source": [
        "1 - stats.norm.cdf(181, loc = mu, scale = sigma)"
      ],
      "execution_count": null,
      "outputs": [
        {
          "output_type": "execute_result",
          "data": {
            "text/plain": [
              "0.19078695285251068"
            ]
          },
          "metadata": {},
          "execution_count": 7
        }
      ]
    },
    {
      "cell_type": "code",
      "metadata": {
        "colab": {
          "base_uri": "https://localhost:8080/"
        },
        "id": "KN2bz-KqJQtW",
        "outputId": "708a2e49-ae88-4c00-83e2-41e98dbbbe25"
      },
      "source": [
        "1 - stats.norm.cdf(189, loc = mu, scale = sigma)"
      ],
      "execution_count": null,
      "outputs": [
        {
          "output_type": "execute_result",
          "data": {
            "text/plain": [
              "0.030396361765261393"
            ]
          },
          "metadata": {},
          "execution_count": 8
        }
      ]
    },
    {
      "cell_type": "code",
      "metadata": {
        "colab": {
          "base_uri": "https://localhost:8080/"
        },
        "id": "hROQT9zDKOgy",
        "outputId": "4405f3b2-d42f-4227-8472-d37976e90631"
      },
      "source": [
        "stats.norm.cdf(190, loc = mu, scale = sigma) - stats.norm.cdf(166, loc = mu, scale = sigma)"
      ],
      "execution_count": null,
      "outputs": [
        {
          "output_type": "execute_result",
          "data": {
            "text/plain": [
              "0.8185946141203637"
            ]
          },
          "metadata": {},
          "execution_count": 16
        }
      ]
    },
    {
      "cell_type": "code",
      "metadata": {
        "colab": {
          "base_uri": "https://localhost:8080/"
        },
        "id": "J6oOrZ1V0ARB",
        "outputId": "29097cb9-4ecb-43e4-bc99-2c84de7cd554"
      },
      "source": [
        "stats.norm.cdf(182, loc = mu, scale = sigma) - stats.norm.cdf(166, loc = mu, scale = sigma)"
      ],
      "execution_count": null,
      "outputs": [
        {
          "output_type": "execute_result",
          "data": {
            "text/plain": [
              "0.6826894921370859"
            ]
          },
          "metadata": {},
          "execution_count": 19
        }
      ]
    },
    {
      "cell_type": "code",
      "metadata": {
        "colab": {
          "base_uri": "https://localhost:8080/"
        },
        "id": "-dohwZCd0c7l",
        "outputId": "f2525cf2-b038-4c53-c539-86c824422246"
      },
      "source": [
        "stats.norm.cdf(190, loc = mu, scale = sigma) - stats.norm.cdf(158, loc = mu, scale = sigma)"
      ],
      "execution_count": null,
      "outputs": [
        {
          "output_type": "execute_result",
          "data": {
            "text/plain": [
              "0.9544997361036416"
            ]
          },
          "metadata": {},
          "execution_count": 20
        }
      ]
    },
    {
      "cell_type": "code",
      "metadata": {
        "colab": {
          "base_uri": "https://localhost:8080/"
        },
        "id": "_YDw00iqTMbL",
        "outputId": "d9409e36-26b2-4109-f53c-00f68fa17083"
      },
      "source": [
        "#не выше 150 см или не ниже 190 см?\n",
        "gnom=stats.norm.cdf(150, loc = mu, scale = sigma)\n",
        "bigfoot=1-stats.norm.cdf(189, loc = mu, scale = sigma)\n",
        "do150plus190=gnom+bigfoot\n",
        "#не выше 150 см или не ниже 198 см?\n",
        "bigfoot2=1-stats.norm.cdf(197, loc = mu, scale = sigma)\n",
        "do150plus198=gnom+bigfoot2\n",
        "print(f'не выше 150 см или не ниже 190 см - {do150plus190:1f}')\n",
        "print(f'не выше 150 см или не ниже 198 см - {do150plus198:1f}')"
      ],
      "execution_count": null,
      "outputs": [
        {
          "output_type": "stream",
          "name": "stdout",
          "text": [
            "не выше 150 см или не ниже 190 см - 0.031746\n",
            "не выше 150 см или не ниже 198 см - 0.003370\n"
          ]
        }
      ]
    },
    {
      "cell_type": "markdown",
      "metadata": {
        "id": "gf-HuLvLSO5o"
      },
      "source": [
        "разные значения для 8 пункта при подсчете суммой вероятностей и cdf\n",
        "почему?"
      ]
    },
    {
      "cell_type": "code",
      "metadata": {
        "colab": {
          "base_uri": "https://localhost:8080/"
        },
        "id": "YgVwhS0DQkKW",
        "outputId": "6f2ed6e4-84cc-47c6-f50f-8a0cffcd244e"
      },
      "source": [
        "stats.norm.cdf(166, loc = mu, scale = sigma)"
      ],
      "execution_count": null,
      "outputs": [
        {
          "output_type": "execute_result",
          "data": {
            "text/plain": [
              "0.15865525393145707"
            ]
          },
          "metadata": {},
          "execution_count": 14
        }
      ]
    },
    {
      "cell_type": "markdown",
      "metadata": {
        "id": "w89qvktydbwn"
      },
      "source": [
        "Задача 3 (Дополнительно)\n",
        "\n",
        "Коробки с шоколадом упаковываются автоматически. Их средняя масса равна 1.06 кг. Известно, что 5% коробок имеют массу, меньшую 1 кг. Найдите: а) среднее квадратическое отклонение массы коробки, б) процент коробок, имеющих массу больше 1.1 кг.\n",
        "\n",
        "Подсказка. 1. Можно считать, что распределение массы коробки нормальное. 2. Найдите такое значение scale, для которого значение cdf(x=1, loc=1.06, scale=scale) близко к 0.05. Точности 0.0001 будет достаточно.\n"
      ]
    }
  ]
}