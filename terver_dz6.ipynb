{
  "nbformat": 4,
  "nbformat_minor": 0,
  "metadata": {
    "colab": {
      "name": "terver-dz6.ipynb",
      "provenance": [],
      "collapsed_sections": [],
      "authorship_tag": "ABX9TyOy5zuxVrz+MJjyxfDt3O9I",
      "include_colab_link": true
    },
    "kernelspec": {
      "name": "python3",
      "display_name": "Python 3"
    },
    "language_info": {
      "name": "python"
    }
  },
  "cells": [
    {
      "cell_type": "markdown",
      "metadata": {
        "id": "view-in-github",
        "colab_type": "text"
      },
      "source": [
        "<a href=\"https://colab.research.google.com/github/morrowbord/matstat/blob/main/terver_dz6.ipynb\" target=\"_parent\"><img src=\"https://colab.research.google.com/assets/colab-badge.svg\" alt=\"Open In Colab\"/></a>"
      ]
    },
    {
      "cell_type": "markdown",
      "metadata": {
        "id": "V3qtpjInpG-B"
      },
      "source": [
        "**Задача 1**\n",
        "\n",
        "**Даны значения величины заработной платы заемщиков банка (salary) и значения их поведенческого кредитного скоринга (scoring):**\n",
        "\n",
        "salary = [35, 45, 190, 200, 40, 70, 54, 150, 120, 110]\n",
        "scoring = [401, 574, 874, 919, 459, 739, 653, 902, 746, 832]\n",
        "\n",
        "1. Найдите ковариацию этих двух величин: сначала без использования специальных функций, а затем с помощью функции numpy.cov. Полученные значения должны быть равны.\n",
        "2. Найдите коэффициент корреляции Пирсона: с помощью ковариации и средних квадратических отклонений двух признаков, а затем с помощью специальных функций из библиотек numpy и pandas."
      ]
    },
    {
      "cell_type": "code",
      "metadata": {
        "id": "wy83EafxU4xX"
      },
      "source": [
        "import statistics\n",
        "import pandas as pd\n",
        "import numpy as np\n",
        "from scipy import stats\n",
        "from matplotlib import pyplot as plt"
      ],
      "execution_count": 3,
      "outputs": []
    },
    {
      "cell_type": "code",
      "metadata": {
        "id": "vP72-PRs1BDB"
      },
      "source": [
        "salary = [35, 45, 190, 200, 40, 70, 54, 150, 120, 110] \n",
        "scoring = [401, 574, 874, 919, 459, 739, 653, 902, 746, 832]\n",
        "X=pd.DataFrame(salary)\n",
        "Y=pd.DataFrame(scoring)"
      ],
      "execution_count": 4,
      "outputs": []
    },
    {
      "cell_type": "code",
      "metadata": {
        "id": "nuQqVkN_7Tkp"
      },
      "source": [
        "MX=X.mean()\n",
        "MY=Y.mean()"
      ],
      "execution_count": 5,
      "outputs": []
    },
    {
      "cell_type": "markdown",
      "metadata": {
        "id": "sA9d-CNxEaqV"
      },
      "source": [
        "ковариация salary and scoring"
      ]
    },
    {
      "cell_type": "code",
      "metadata": {
        "colab": {
          "base_uri": "https://localhost:8080/"
        },
        "id": "DvzKBZwl590B",
        "outputId": "667d24d7-76d7-4523-f98b-0d285dca96b5"
      },
      "source": [
        "cov = ((X - MX) * (Y - MY)).sum() / (X.shape[0] - 1)\n",
        "cov"
      ],
      "execution_count": 6,
      "outputs": [
        {
          "output_type": "execute_result",
          "data": {
            "text/plain": [
              "0    10175.377778\n",
              "dtype: float64"
            ]
          },
          "metadata": {},
          "execution_count": 6
        }
      ]
    },
    {
      "cell_type": "code",
      "metadata": {
        "colab": {
          "base_uri": "https://localhost:8080/"
        },
        "id": "inT6ikUb9OZb",
        "outputId": "7a6da65a-91b7-441c-dda5-5a2ffc3f03d3"
      },
      "source": [
        "varX=X.var(ddof=1)\n",
        "varY=Y.var(ddof=1)\n",
        "print(f'{varX[0],varY[0]}')"
      ],
      "execution_count": 7,
      "outputs": [
        {
          "output_type": "stream",
          "name": "stdout",
          "text": [
            "(3882.9333333333334, 33854.322222222225)\n"
          ]
        }
      ]
    },
    {
      "cell_type": "code",
      "metadata": {
        "colab": {
          "base_uri": "https://localhost:8080/"
        },
        "id": "mJAQXOn93I9C",
        "outputId": "8a2f0ba0-70a8-4fb1-d441-9bf5fc5b293e"
      },
      "source": [
        "covar=np.cov(salary,scoring)\n",
        "covar"
      ],
      "execution_count": 8,
      "outputs": [
        {
          "output_type": "execute_result",
          "data": {
            "text/plain": [
              "array([[ 3882.93333333, 10175.37777778],\n",
              "       [10175.37777778, 33854.32222222]])"
            ]
          },
          "metadata": {},
          "execution_count": 8
        }
      ]
    },
    {
      "cell_type": "markdown",
      "metadata": {
        "id": "-t69E0FDEYO3"
      },
      "source": [
        "коэффициент корреляции Пирсона:"
      ]
    },
    {
      "cell_type": "code",
      "metadata": {
        "colab": {
          "base_uri": "https://localhost:8080/"
        },
        "id": "ZH0JqtncAQ0E",
        "outputId": "a780defe-417c-43db-9f9d-91ed13c4e6d0"
      },
      "source": [
        "corr = cov / (X.std(ddof = 1) * Y.std(ddof = 1))\n",
        "corr"
      ],
      "execution_count": 9,
      "outputs": [
        {
          "output_type": "execute_result",
          "data": {
            "text/plain": [
              "0    0.88749\n",
              "dtype: float64"
            ]
          },
          "metadata": {},
          "execution_count": 9
        }
      ]
    },
    {
      "cell_type": "markdown",
      "metadata": {
        "id": "hdsolw6hDFwv"
      },
      "source": [
        "посмотрим на встроенные функции ковариации np и pd"
      ]
    },
    {
      "cell_type": "code",
      "metadata": {
        "colab": {
          "base_uri": "https://localhost:8080/"
        },
        "id": "g727FeymAkBE",
        "outputId": "f5473948-694a-43b1-98e7-44f511397193"
      },
      "source": [
        "np.corrcoef(X[0], Y[0])"
      ],
      "execution_count": 10,
      "outputs": [
        {
          "output_type": "execute_result",
          "data": {
            "text/plain": [
              "array([[1.        , 0.88749009],\n",
              "       [0.88749009, 1.        ]])"
            ]
          },
          "metadata": {},
          "execution_count": 10
        }
      ]
    },
    {
      "cell_type": "code",
      "metadata": {
        "colab": {
          "base_uri": "https://localhost:8080/",
          "height": 359
        },
        "id": "5rZ8vx5dCrwd",
        "outputId": "244790d7-393f-4f76-e085-9cf0e8a4a5d6"
      },
      "source": [
        "covr = np.stack((salary,scoring), axis=1)\n",
        "cd=pd.DataFrame(covr)\n",
        "cd"
      ],
      "execution_count": 11,
      "outputs": [
        {
          "output_type": "execute_result",
          "data": {
            "text/html": [
              "<div>\n",
              "<style scoped>\n",
              "    .dataframe tbody tr th:only-of-type {\n",
              "        vertical-align: middle;\n",
              "    }\n",
              "\n",
              "    .dataframe tbody tr th {\n",
              "        vertical-align: top;\n",
              "    }\n",
              "\n",
              "    .dataframe thead th {\n",
              "        text-align: right;\n",
              "    }\n",
              "</style>\n",
              "<table border=\"1\" class=\"dataframe\">\n",
              "  <thead>\n",
              "    <tr style=\"text-align: right;\">\n",
              "      <th></th>\n",
              "      <th>0</th>\n",
              "      <th>1</th>\n",
              "    </tr>\n",
              "  </thead>\n",
              "  <tbody>\n",
              "    <tr>\n",
              "      <th>0</th>\n",
              "      <td>35</td>\n",
              "      <td>401</td>\n",
              "    </tr>\n",
              "    <tr>\n",
              "      <th>1</th>\n",
              "      <td>45</td>\n",
              "      <td>574</td>\n",
              "    </tr>\n",
              "    <tr>\n",
              "      <th>2</th>\n",
              "      <td>190</td>\n",
              "      <td>874</td>\n",
              "    </tr>\n",
              "    <tr>\n",
              "      <th>3</th>\n",
              "      <td>200</td>\n",
              "      <td>919</td>\n",
              "    </tr>\n",
              "    <tr>\n",
              "      <th>4</th>\n",
              "      <td>40</td>\n",
              "      <td>459</td>\n",
              "    </tr>\n",
              "    <tr>\n",
              "      <th>5</th>\n",
              "      <td>70</td>\n",
              "      <td>739</td>\n",
              "    </tr>\n",
              "    <tr>\n",
              "      <th>6</th>\n",
              "      <td>54</td>\n",
              "      <td>653</td>\n",
              "    </tr>\n",
              "    <tr>\n",
              "      <th>7</th>\n",
              "      <td>150</td>\n",
              "      <td>902</td>\n",
              "    </tr>\n",
              "    <tr>\n",
              "      <th>8</th>\n",
              "      <td>120</td>\n",
              "      <td>746</td>\n",
              "    </tr>\n",
              "    <tr>\n",
              "      <th>9</th>\n",
              "      <td>110</td>\n",
              "      <td>832</td>\n",
              "    </tr>\n",
              "  </tbody>\n",
              "</table>\n",
              "</div>"
            ],
            "text/plain": [
              "     0    1\n",
              "0   35  401\n",
              "1   45  574\n",
              "2  190  874\n",
              "3  200  919\n",
              "4   40  459\n",
              "5   70  739\n",
              "6   54  653\n",
              "7  150  902\n",
              "8  120  746\n",
              "9  110  832"
            ]
          },
          "metadata": {},
          "execution_count": 11
        }
      ]
    },
    {
      "cell_type": "markdown",
      "metadata": {
        "id": "TV2oMf0YG1UT"
      },
      "source": [
        "посмотрим на корреляционную матрицу"
      ]
    },
    {
      "cell_type": "code",
      "metadata": {
        "colab": {
          "base_uri": "https://localhost:8080/",
          "height": 111
        },
        "id": "d7fgK9xiB1S0",
        "outputId": "5f5843de-4569-42e5-c8c1-f65946740f34"
      },
      "source": [
        "cd.corr()"
      ],
      "execution_count": 12,
      "outputs": [
        {
          "output_type": "execute_result",
          "data": {
            "text/html": [
              "<div>\n",
              "<style scoped>\n",
              "    .dataframe tbody tr th:only-of-type {\n",
              "        vertical-align: middle;\n",
              "    }\n",
              "\n",
              "    .dataframe tbody tr th {\n",
              "        vertical-align: top;\n",
              "    }\n",
              "\n",
              "    .dataframe thead th {\n",
              "        text-align: right;\n",
              "    }\n",
              "</style>\n",
              "<table border=\"1\" class=\"dataframe\">\n",
              "  <thead>\n",
              "    <tr style=\"text-align: right;\">\n",
              "      <th></th>\n",
              "      <th>0</th>\n",
              "      <th>1</th>\n",
              "    </tr>\n",
              "  </thead>\n",
              "  <tbody>\n",
              "    <tr>\n",
              "      <th>0</th>\n",
              "      <td>1.00000</td>\n",
              "      <td>0.88749</td>\n",
              "    </tr>\n",
              "    <tr>\n",
              "      <th>1</th>\n",
              "      <td>0.88749</td>\n",
              "      <td>1.00000</td>\n",
              "    </tr>\n",
              "  </tbody>\n",
              "</table>\n",
              "</div>"
            ],
            "text/plain": [
              "         0        1\n",
              "0  1.00000  0.88749\n",
              "1  0.88749  1.00000"
            ]
          },
          "metadata": {},
          "execution_count": 12
        }
      ]
    },
    {
      "cell_type": "markdown",
      "metadata": {
        "id": "B6Ma5c3CG9Mr"
      },
      "source": [
        "**Задача 2**\n",
        "\n",
        "**Измерены значения IQ выборки студентов, обучающихся в местных технических вузах:**\n",
        "\n",
        "131, 125, 115, 122, 131, 115, 107, 99, 125, 111\n",
        "\n",
        "Известно, что в генеральной совокупности IQ распределен нормально. Найдите доверительный интервал для математического ожидания с надежностью 0.95"
      ]
    },
    {
      "cell_type": "code",
      "metadata": {
        "id": "3yPyYG-SHCeN"
      },
      "source": [
        "iq=pd.DataFrame([131, 125, 115, 122, 131, 115, 107, 99, 125, 111])\n",
        "p=0.95\n",
        "alpha=1-p\n",
        "n=iq.shape[0]"
      ],
      "execution_count": 13,
      "outputs": []
    },
    {
      "cell_type": "code",
      "metadata": {
        "id": "uNVi-zdAHqwl",
        "colab": {
          "base_uri": "https://localhost:8080/"
        },
        "outputId": "0c0a8515-934f-412a-cf26-b2c334753fe7"
      },
      "source": [
        "mean = iq.mean()\n",
        "mean"
      ],
      "execution_count": 14,
      "outputs": [
        {
          "output_type": "execute_result",
          "data": {
            "text/plain": [
              "0    118.1\n",
              "dtype: float64"
            ]
          },
          "metadata": {},
          "execution_count": 14
        }
      ]
    },
    {
      "cell_type": "code",
      "metadata": {
        "id": "C-RAsWjJLkS1"
      },
      "source": [
        "iq_std = iq.std()"
      ],
      "execution_count": 15,
      "outputs": []
    },
    {
      "cell_type": "code",
      "metadata": {
        "colab": {
          "base_uri": "https://localhost:8080/"
        },
        "id": "JVy9mjidL4Rr",
        "outputId": "0d46237d-14c3-4c26-e6b6-94e3af482183"
      },
      "source": [
        "t1 = stats.t.ppf(alpha / 2,n-1)\n",
        "t2 = stats.t.ppf(1 - alpha / 2,n-1)\n",
        "\n",
        "t1, t2"
      ],
      "execution_count": 16,
      "outputs": [
        {
          "output_type": "execute_result",
          "data": {
            "text/plain": [
              "(-2.2621571627409915, 2.2621571627409915)"
            ]
          },
          "metadata": {},
          "execution_count": 16
        }
      ]
    },
    {
      "cell_type": "code",
      "metadata": {
        "id": "Shl76Wu9OKkb"
      },
      "source": [
        "m1 = (mean + t1 * (iq_std / np.sqrt(n)))\n",
        "m2 = (mean + t2 * (iq_std / np.sqrt(n)))"
      ],
      "execution_count": 17,
      "outputs": []
    },
    {
      "cell_type": "code",
      "metadata": {
        "colab": {
          "base_uri": "https://localhost:8080/"
        },
        "id": "gaqSyK84O6gX",
        "outputId": "50cce66b-4950-4015-823c-1903cb17edf5"
      },
      "source": [
        "print(f\"доверительный интервал матожидания от : {m1[0]:2f} до {m2[0]:2f}\")"
      ],
      "execution_count": 18,
      "outputs": [
        {
          "output_type": "stream",
          "name": "stdout",
          "text": [
            "доверительный интервал матожидания от : 110.556084 до 125.643916\n"
          ]
        }
      ]
    },
    {
      "cell_type": "markdown",
      "metadata": {
        "id": "MRH_e9nYHm7S"
      },
      "source": [
        "**Задача 3**\n",
        "\n",
        "Известно, что рост футболистов в сборной распределен нормально с известной дисперсией 25. На выборке объёма 27 выборочное среднее составило 174.2. Найдите доверительный интервал для математического ожидания с надежностью 0.95."
      ]
    },
    {
      "cell_type": "code",
      "metadata": {
        "id": "6nb2NAgTHoyD"
      },
      "source": [
        "sigma=np.sqrt(25)\n",
        "n=27\n",
        "mean=174.2\n",
        "alpha=1-0.95"
      ],
      "execution_count": 26,
      "outputs": []
    },
    {
      "cell_type": "code",
      "metadata": {
        "colab": {
          "base_uri": "https://localhost:8080/"
        },
        "id": "B84xtOuTeiom",
        "outputId": "8fcbebe0-3782-4a3e-b208-0127f8c86759"
      },
      "source": [
        "z1 = stats.norm.ppf(alpha / 2)\n",
        "z2 = stats.norm.ppf(1 - alpha / 2)\n",
        "\n",
        "z1, z2"
      ],
      "execution_count": 22,
      "outputs": [
        {
          "output_type": "execute_result",
          "data": {
            "text/plain": [
              "(-1.959963984540054, 1.959963984540054)"
            ]
          },
          "metadata": {},
          "execution_count": 22
        }
      ]
    },
    {
      "cell_type": "code",
      "metadata": {
        "colab": {
          "base_uri": "https://localhost:8080/"
        },
        "id": "vfKgm_NefBYd",
        "outputId": "e3b03111-3f2f-453d-895f-d2dd8178bf95"
      },
      "source": [
        "(mean + z1 * sigma / np.sqrt(n), mean + z2 * sigma / np.sqrt(n))"
      ],
      "execution_count": 27,
      "outputs": [
        {
          "output_type": "execute_result",
          "data": {
            "text/plain": [
              "(172.3140237765397, 176.08597622346028)"
            ]
          },
          "metadata": {},
          "execution_count": 27
        }
      ]
    },
    {
      "cell_type": "markdown",
      "metadata": {
        "id": "Kap6bvrVfqHo"
      },
      "source": [
        "ответ: дов.интервал : (172.31, 176.08)"
      ]
    },
    {
      "cell_type": "code",
      "metadata": {
        "id": "y2u5KFS_f1JQ"
      },
      "source": [
        ""
      ],
      "execution_count": null,
      "outputs": []
    }
  ]
}