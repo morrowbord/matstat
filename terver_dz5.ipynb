{
  "nbformat": 4,
  "nbformat_minor": 0,
  "metadata": {
    "colab": {
      "name": "terver-dz5.ipynb",
      "provenance": [],
      "collapsed_sections": [],
      "authorship_tag": "ABX9TyMLQVcrGsIetopUe6wq3O3q",
      "include_colab_link": true
    },
    "kernelspec": {
      "name": "python3",
      "display_name": "Python 3"
    },
    "language_info": {
      "name": "python"
    }
  },
  "cells": [
    {
      "cell_type": "markdown",
      "metadata": {
        "id": "view-in-github",
        "colab_type": "text"
      },
      "source": [
        "<a href=\"https://colab.research.google.com/github/morrowbord/matstat/blob/main/terver_dz5.ipynb\" target=\"_parent\"><img src=\"https://colab.research.google.com/assets/colab-badge.svg\" alt=\"Open In Colab\"/></a>"
      ]
    },
    {
      "cell_type": "code",
      "metadata": {
        "id": "OV_GFZ_qz8mK"
      },
      "source": [
        "import statistics\n",
        "import pandas as pd\n",
        "import numpy as np\n",
        "from scipy import stats\n",
        "from matplotlib import pyplot as plt\n"
      ],
      "execution_count": 2,
      "outputs": []
    },
    {
      "cell_type": "markdown",
      "metadata": {
        "id": "c1S7I9N90OhC"
      },
      "source": [
        "**Задача 1**\n",
        "\n",
        "**Известно, что генеральная совокупность распределена нормально с известным средним квадратическим отклонением 16. Найти доверительный интервал для оценки математического ожидания mu с надёжностью 0.95, если выборочное среднее равно 80, а объём равен 256.**"
      ]
    },
    {
      "cell_type": "code",
      "metadata": {
        "id": "677IFfhw7GKR"
      },
      "source": [
        "mean=80\n",
        "std=16\n",
        "n=256\n",
        "p=0.95"
      ],
      "execution_count": 3,
      "outputs": []
    },
    {
      "cell_type": "code",
      "metadata": {
        "colab": {
          "base_uri": "https://localhost:8080/"
        },
        "id": "UDrJ4U7m0Qv1",
        "outputId": "d150afbb-73b4-4256-bd98-a7a28bce63a5"
      },
      "source": [
        "alpha=1-0.95\n",
        "alpha"
      ],
      "execution_count": 4,
      "outputs": [
        {
          "output_type": "execute_result",
          "data": {
            "text/plain": [
              "0.050000000000000044"
            ]
          },
          "metadata": {},
          "execution_count": 4
        }
      ]
    },
    {
      "cell_type": "code",
      "metadata": {
        "colab": {
          "base_uri": "https://localhost:8080/"
        },
        "id": "hdPnelvVPeJK",
        "outputId": "4c26c223-e5a7-47c6-e0ef-6e2060c70768"
      },
      "source": [
        "t1 = stats.norm.ppf(alpha / 2)\n",
        "t2 = stats.norm.ppf(1 - alpha / 2)\n",
        "\n",
        "t1, t2"
      ],
      "execution_count": 5,
      "outputs": [
        {
          "output_type": "execute_result",
          "data": {
            "text/plain": [
              "(-1.959963984540054, 1.959963984540054)"
            ]
          },
          "metadata": {},
          "execution_count": 5
        }
      ]
    },
    {
      "cell_type": "code",
      "metadata": {
        "colab": {
          "base_uri": "https://localhost:8080/"
        },
        "id": "_TeUVkoxk1kE",
        "outputId": "9e20d2a1-359d-4ee1-bde0-543e7de8c0cc"
      },
      "source": [
        "(mean + t1 * std / np.sqrt(n), mean + t2 * std / np.sqrt(n))"
      ],
      "execution_count": 6,
      "outputs": [
        {
          "output_type": "execute_result",
          "data": {
            "text/plain": [
              "(78.04003601545995, 81.95996398454005)"
            ]
          },
          "metadata": {},
          "execution_count": 6
        }
      ]
    },
    {
      "cell_type": "markdown",
      "metadata": {
        "id": "OrYvRcEFFCUQ"
      },
      "source": [
        "Ответ - доверительный интервал 78-82, матожидание 80 входит в интервал"
      ]
    },
    {
      "cell_type": "markdown",
      "metadata": {
        "id": "ivvaOINLZL0R"
      },
      "source": [
        "**2.Продавец утверждает, что средний вес пачки печенья составляет 200 г. Из партии извлечена выборка из 10 пачек. Вес каждой пачки составляет:**\n",
        "\n",
        "202, 203, 199, 197, 195, 201, 200, 204, 194, 190\n",
        "Известно, что их веса распределены нормально.\n",
        "\n",
        "Верно ли утверждение продавца, если учитывать, что уровень значимости равен 1%?\n",
        "Найдите P-значение для данного теста.\n",
        "\n"
      ]
    },
    {
      "cell_type": "code",
      "metadata": {
        "colab": {
          "base_uri": "https://localhost:8080/"
        },
        "id": "nFkS1ZzuZK_k",
        "outputId": "653c9bd3-9af1-4124-f242-91594e71f446"
      },
      "source": [
        "a = (202, 203, 199, 197, 195, 201, 200, 204, 194, 190)\n",
        "samples=pd.DataFrame(a)\n",
        "samples.mean()"
      ],
      "execution_count": 22,
      "outputs": [
        {
          "output_type": "execute_result",
          "data": {
            "text/plain": [
              "0    198.5\n",
              "dtype: float64"
            ]
          },
          "metadata": {},
          "execution_count": 22
        }
      ]
    },
    {
      "cell_type": "code",
      "metadata": {
        "id": "yGmirnw2Z2ky"
      },
      "source": [
        "m0=200\n",
        "n=10\n",
        "alpha=0.01"
      ],
      "execution_count": 21,
      "outputs": []
    },
    {
      "cell_type": "code",
      "metadata": {
        "id": "FdPVyXVfxBqc"
      },
      "source": [
        "def statistic(samples):\n",
        "    return (samples.mean() - m0) / ((samples.std(ddof=1) / np.sqrt(10)))"
      ],
      "execution_count": 27,
      "outputs": []
    },
    {
      "cell_type": "code",
      "metadata": {
        "colab": {
          "base_uri": "https://localhost:8080/"
        },
        "id": "FD8nIfPUx_91",
        "outputId": "1b170571-31b3-4228-c4e0-8467ddca7f75"
      },
      "source": [
        "n = samples.shape[0]\n",
        "\n",
        "t1 = stats.t.ppf(alpha / 2, n - 1)\n",
        "t2 = stats.t.ppf(1 - alpha / 2, n - 1)\n",
        "\n",
        "t1, t2"
      ],
      "execution_count": 23,
      "outputs": [
        {
          "output_type": "execute_result",
          "data": {
            "text/plain": [
              "(-3.24983554401537, 3.2498355440153697)"
            ]
          },
          "metadata": {},
          "execution_count": 23
        }
      ]
    },
    {
      "cell_type": "code",
      "metadata": {
        "colab": {
          "base_uri": "https://localhost:8080/"
        },
        "id": "ydgeEkUPxlNa",
        "outputId": "fb57c5ec-a1dd-4fbf-c053-a304c61fc322"
      },
      "source": [
        "s = statistic(samples)\n",
        "s"
      ],
      "execution_count": 29,
      "outputs": [
        {
          "output_type": "execute_result",
          "data": {
            "text/plain": [
              "0   -1.065107\n",
              "dtype: float64"
            ]
          },
          "metadata": {},
          "execution_count": 29
        }
      ]
    },
    {
      "cell_type": "markdown",
      "metadata": {
        "id": "bE9hmxKU0WYb"
      },
      "source": [
        "значение попало в интервал, значит гипотеза не отвергается"
      ]
    },
    {
      "cell_type": "code",
      "metadata": {
        "colab": {
          "base_uri": "https://localhost:8080/"
        },
        "id": "ofaqhXCi1Zrd",
        "outputId": "0c3a0c34-7bbd-425d-e1aa-6f10009eb09b"
      },
      "source": [
        "p_left = stats.t.cdf(s, n - 1)\n",
        "p_right = 1 - stats.t.cdf(s, n - 1)\n",
        "\n",
        "pvalue = 2 * min(p_left, p_right)\n",
        "\n",
        "pvalue"
      ],
      "execution_count": 30,
      "outputs": [
        {
          "output_type": "execute_result",
          "data": {
            "text/plain": [
              "array([0.3145666])"
            ]
          },
          "metadata": {},
          "execution_count": 30
        }
      ]
    },
    {
      "cell_type": "markdown",
      "metadata": {
        "id": "XyXwg8XBo8F6"
      },
      "source": [
        "\n",
        "**ответ**\n",
        "```\n",
        "pvalue=0.31 >0.01 - значит наша гипотеза верна с уровнем значимости alfa=0.01\n",
        "\n",
        "```\n",
        "\n",
        "\n",
        "\n"
      ]
    },
    {
      "cell_type": "markdown",
      "metadata": {
        "id": "iaRihOzj-TPh"
      },
      "source": [
        "Задача 3\n",
        "\n",
        "Утверждается, что шарики для подшипников, изготовленные автоматическим станком, имеют средний диаметр 17 мм. Используя уровень значимости 0.025 и правостороннюю критическую область, проверить данную гипотезу при условии, что в выборке из 100 шариков средний диаметр оказался равным 17.5 мм, а дисперсия известна и равна 4 мм."
      ]
    },
    {
      "cell_type": "code",
      "metadata": {
        "id": "Tt6nMgU_OHEd"
      },
      "source": [
        "h0=17\n",
        "alpha=0.025\n",
        "n=100\n",
        "mean=17.5\n",
        "D=4 \n",
        "sigma=2"
      ],
      "execution_count": 14,
      "outputs": []
    },
    {
      "cell_type": "code",
      "metadata": {
        "colab": {
          "base_uri": "https://localhost:8080/"
        },
        "id": "4Sf_BAebOwSm",
        "outputId": "cc314254-0f2f-45ed-cde9-8d5fdc9fce36"
      },
      "source": [
        "t1 = stats.norm.ppf(alpha / 2)\n",
        "t2 = stats.norm.ppf(1 - alpha / 2)\n",
        "\n",
        "t1, t2"
      ],
      "execution_count": 15,
      "outputs": [
        {
          "output_type": "execute_result",
          "data": {
            "text/plain": [
              "(-2.241402727604945, 2.241402727604947)"
            ]
          },
          "metadata": {},
          "execution_count": 15
        }
      ]
    },
    {
      "cell_type": "code",
      "metadata": {
        "id": "9qoM7Y41rDSu"
      },
      "source": [
        "def statistic_2():\n",
        "    return ((mean - h0) / (sigma / np.sqrt(n)))"
      ],
      "execution_count": 16,
      "outputs": []
    },
    {
      "cell_type": "code",
      "metadata": {
        "colab": {
          "base_uri": "https://localhost:8080/"
        },
        "id": "Qvt3h-uLsVBM",
        "outputId": "c56a7745-7053-4a41-87e9-e10f0d84ea34"
      },
      "source": [
        "s = statistic_2()\n",
        "s"
      ],
      "execution_count": 17,
      "outputs": [
        {
          "output_type": "execute_result",
          "data": {
            "text/plain": [
              "2.5"
            ]
          },
          "metadata": {},
          "execution_count": 17
        }
      ]
    },
    {
      "cell_type": "markdown",
      "metadata": {
        "id": "DZqg4nnjwtdz"
      },
      "source": [
        "значение не попало в интервал, значит гипотеза не подтвердилась на ур значимости 0.025"
      ]
    },
    {
      "cell_type": "code",
      "metadata": {
        "colab": {
          "base_uri": "https://localhost:8080/"
        },
        "id": "dekdTzEEsqBE",
        "outputId": "2512c18d-6845-4b78-e004-c1d6114f9261"
      },
      "source": [
        "# p_left = stats.norm.cdf(s, n - 1)\n",
        "p_right = 1 - stats.norm.cdf(s)\n",
        "\n",
        "pvalue = p_right\n",
        "\n",
        "pvalue"
      ],
      "execution_count": 18,
      "outputs": [
        {
          "output_type": "execute_result",
          "data": {
            "text/plain": [
              "0.006209665325776159"
            ]
          },
          "metadata": {},
          "execution_count": 18
        }
      ]
    },
    {
      "cell_type": "markdown",
      "metadata": {
        "id": "W067JgYvmI-R"
      },
      "source": [
        "ответ : pvalue < alpha, гипотеза h0=17мм не потвердилась"
      ]
    },
    {
      "cell_type": "code",
      "metadata": {
        "id": "QvWu5nF0oxuH"
      },
      "source": [
        ""
      ],
      "execution_count": 18,
      "outputs": []
    }
  ]
}