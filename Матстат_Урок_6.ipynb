{
  "nbformat": 4,
  "nbformat_minor": 0,
  "metadata": {
    "colab": {
      "name": "Матстат - Урок 6.ipynb",
      "provenance": [],
      "collapsed_sections": [],
      "include_colab_link": true
    },
    "kernelspec": {
      "display_name": "Python 3",
      "language": "python",
      "name": "python3"
    }
  },
  "cells": [
    {
      "cell_type": "markdown",
      "metadata": {
        "id": "view-in-github",
        "colab_type": "text"
      },
      "source": [
        "<a href=\"https://colab.research.google.com/github/morrowbord/matstat/blob/main/%D0%9C%D0%B0%D1%82%D1%81%D1%82%D0%B0%D1%82_%D0%A3%D1%80%D0%BE%D0%BA_6.ipynb\" target=\"_parent\"><img src=\"https://colab.research.google.com/assets/colab-badge.svg\" alt=\"Open In Colab\"/></a>"
      ]
    },
    {
      "cell_type": "markdown",
      "metadata": {
        "id": "Kd6T723GKP4U"
      },
      "source": [
        "## Урок 6"
      ]
    },
    {
      "cell_type": "markdown",
      "metadata": {
        "id": "kCDeDOwqKP4d"
      },
      "source": [
        "### Взаимосвязь величин. Параметрические и непараметрические показатели корреляции. \n",
        "\n",
        "### Корреляционный анализ"
      ]
    },
    {
      "cell_type": "code",
      "metadata": {
        "id": "IUbszIG0wHUU"
      },
      "source": [
        ""
      ],
      "execution_count": null,
      "outputs": []
    },
    {
      "cell_type": "markdown",
      "metadata": {
        "id": "xUQNl66OKP4g"
      },
      "source": [
        "**Корреляция**  — математический показатель, по которому можно судить, есть ли статистическая взаимосвязь между \n",
        "\n",
        "случайными величинами. Если такая связь существует, изменения значений одной величины  \n",
        "\n",
        "влияют на другую.\n",
        "\n",
        "\n",
        "**Коэффициент корреляции** показывает, насколько велика взаимосвязь. Обозначается символами $R$ или $r$ и может \n",
        "\n",
        "принимать значения от -1 до 1 включительно."
      ]
    },
    {
      "cell_type": "markdown",
      "metadata": {
        "collapsed": true,
        "id": "j_kjlhujKP4j"
      },
      "source": [
        "Когда коэффициент корреляции близок к 1, между величинами наблюдается **прямая** связь:\n",
        "\n",
        "увеличение одной величины сопровождается увеличением другой, и аналогично уменьшение одной величины\n",
        "\n",
        "сопровождается уменьшением другой.\n",
        "\n",
        "Если же коэффициент корреляции близок к -1, между величинами есть **обратная** корреляционная связь:\n",
        "\n",
        "увеличение одной величины сопровождается уменьшением другой и наоборот.\n",
        "\n",
        "Коэффициент корреляции, близкий к 0, говорит о том, что между величинами **нет связи**,\n",
        "\n",
        "то есть изменение величин происходит независимо друг от друга, либо есть только нелинейная взаимосвязь."
      ]
    },
    {
      "cell_type": "markdown",
      "metadata": {
        "id": "rTj2_4NEKP4l"
      },
      "source": [
        "**Пример 1**"
      ]
    },
    {
      "cell_type": "markdown",
      "metadata": {
        "id": "nl0FIvuwDTru"
      },
      "source": [
        ""
      ]
    },
    {
      "cell_type": "markdown",
      "metadata": {
        "id": "ZMhj93DHKP4q"
      },
      "source": [
        "Посчитаем корреляцию роста с весом хоккеистов из рассмотренного ранее датасета."
      ]
    },
    {
      "cell_type": "code",
      "metadata": {
        "id": "O04IbTLXKP4v"
      },
      "source": [
        "import numpy as np\n",
        "import pandas as pd"
      ],
      "execution_count": 1,
      "outputs": []
    },
    {
      "cell_type": "code",
      "metadata": {
        "id": "zyT40MYOKP5C",
        "outputId": "a364d546-b8ef-42dd-e5d6-7909b2e8105f",
        "colab": {
          "base_uri": "https://localhost:8080/",
          "height": 337
        }
      },
      "source": [
        "df = pd.read_csv('csv/hockey_players.csv', encoding='cp1251', parse_dates=['birth'])\n",
        "df = df.drop_duplicates(['name', 'birth'])"
      ],
      "execution_count": 2,
      "outputs": [
        {
          "output_type": "error",
          "ename": "FileNotFoundError",
          "evalue": "ignored",
          "traceback": [
            "\u001b[0;31m---------------------------------------------------------------------------\u001b[0m",
            "\u001b[0;31mFileNotFoundError\u001b[0m                         Traceback (most recent call last)",
            "\u001b[0;32m<ipython-input-2-179117b783a9>\u001b[0m in \u001b[0;36m<module>\u001b[0;34m()\u001b[0m\n\u001b[0;32m----> 1\u001b[0;31m \u001b[0mdf\u001b[0m \u001b[0;34m=\u001b[0m \u001b[0mpd\u001b[0m\u001b[0;34m.\u001b[0m\u001b[0mread_csv\u001b[0m\u001b[0;34m(\u001b[0m\u001b[0;34m'csv/hockey_players.csv'\u001b[0m\u001b[0;34m,\u001b[0m \u001b[0mencoding\u001b[0m\u001b[0;34m=\u001b[0m\u001b[0;34m'cp1251'\u001b[0m\u001b[0;34m,\u001b[0m \u001b[0mparse_dates\u001b[0m\u001b[0;34m=\u001b[0m\u001b[0;34m[\u001b[0m\u001b[0;34m'birth'\u001b[0m\u001b[0;34m]\u001b[0m\u001b[0;34m)\u001b[0m\u001b[0;34m\u001b[0m\u001b[0;34m\u001b[0m\u001b[0m\n\u001b[0m\u001b[1;32m      2\u001b[0m \u001b[0mdf\u001b[0m \u001b[0;34m=\u001b[0m \u001b[0mdf\u001b[0m\u001b[0;34m.\u001b[0m\u001b[0mdrop_duplicates\u001b[0m\u001b[0;34m(\u001b[0m\u001b[0;34m[\u001b[0m\u001b[0;34m'name'\u001b[0m\u001b[0;34m,\u001b[0m \u001b[0;34m'birth'\u001b[0m\u001b[0;34m]\u001b[0m\u001b[0;34m)\u001b[0m\u001b[0;34m\u001b[0m\u001b[0;34m\u001b[0m\u001b[0m\n",
            "\u001b[0;32m/usr/local/lib/python3.7/dist-packages/pandas/io/parsers.py\u001b[0m in \u001b[0;36mread_csv\u001b[0;34m(filepath_or_buffer, sep, delimiter, header, names, index_col, usecols, squeeze, prefix, mangle_dupe_cols, dtype, engine, converters, true_values, false_values, skipinitialspace, skiprows, skipfooter, nrows, na_values, keep_default_na, na_filter, verbose, skip_blank_lines, parse_dates, infer_datetime_format, keep_date_col, date_parser, dayfirst, cache_dates, iterator, chunksize, compression, thousands, decimal, lineterminator, quotechar, quoting, doublequote, escapechar, comment, encoding, dialect, error_bad_lines, warn_bad_lines, delim_whitespace, low_memory, memory_map, float_precision)\u001b[0m\n\u001b[1;32m    686\u001b[0m     )\n\u001b[1;32m    687\u001b[0m \u001b[0;34m\u001b[0m\u001b[0m\n\u001b[0;32m--> 688\u001b[0;31m     \u001b[0;32mreturn\u001b[0m \u001b[0m_read\u001b[0m\u001b[0;34m(\u001b[0m\u001b[0mfilepath_or_buffer\u001b[0m\u001b[0;34m,\u001b[0m \u001b[0mkwds\u001b[0m\u001b[0;34m)\u001b[0m\u001b[0;34m\u001b[0m\u001b[0;34m\u001b[0m\u001b[0m\n\u001b[0m\u001b[1;32m    689\u001b[0m \u001b[0;34m\u001b[0m\u001b[0m\n\u001b[1;32m    690\u001b[0m \u001b[0;34m\u001b[0m\u001b[0m\n",
            "\u001b[0;32m/usr/local/lib/python3.7/dist-packages/pandas/io/parsers.py\u001b[0m in \u001b[0;36m_read\u001b[0;34m(filepath_or_buffer, kwds)\u001b[0m\n\u001b[1;32m    452\u001b[0m \u001b[0;34m\u001b[0m\u001b[0m\n\u001b[1;32m    453\u001b[0m     \u001b[0;31m# Create the parser.\u001b[0m\u001b[0;34m\u001b[0m\u001b[0;34m\u001b[0m\u001b[0;34m\u001b[0m\u001b[0m\n\u001b[0;32m--> 454\u001b[0;31m     \u001b[0mparser\u001b[0m \u001b[0;34m=\u001b[0m \u001b[0mTextFileReader\u001b[0m\u001b[0;34m(\u001b[0m\u001b[0mfp_or_buf\u001b[0m\u001b[0;34m,\u001b[0m \u001b[0;34m**\u001b[0m\u001b[0mkwds\u001b[0m\u001b[0;34m)\u001b[0m\u001b[0;34m\u001b[0m\u001b[0;34m\u001b[0m\u001b[0m\n\u001b[0m\u001b[1;32m    455\u001b[0m \u001b[0;34m\u001b[0m\u001b[0m\n\u001b[1;32m    456\u001b[0m     \u001b[0;32mif\u001b[0m \u001b[0mchunksize\u001b[0m \u001b[0;32mor\u001b[0m \u001b[0miterator\u001b[0m\u001b[0;34m:\u001b[0m\u001b[0;34m\u001b[0m\u001b[0;34m\u001b[0m\u001b[0m\n",
            "\u001b[0;32m/usr/local/lib/python3.7/dist-packages/pandas/io/parsers.py\u001b[0m in \u001b[0;36m__init__\u001b[0;34m(self, f, engine, **kwds)\u001b[0m\n\u001b[1;32m    946\u001b[0m             \u001b[0mself\u001b[0m\u001b[0;34m.\u001b[0m\u001b[0moptions\u001b[0m\u001b[0;34m[\u001b[0m\u001b[0;34m\"has_index_names\"\u001b[0m\u001b[0;34m]\u001b[0m \u001b[0;34m=\u001b[0m \u001b[0mkwds\u001b[0m\u001b[0;34m[\u001b[0m\u001b[0;34m\"has_index_names\"\u001b[0m\u001b[0;34m]\u001b[0m\u001b[0;34m\u001b[0m\u001b[0;34m\u001b[0m\u001b[0m\n\u001b[1;32m    947\u001b[0m \u001b[0;34m\u001b[0m\u001b[0m\n\u001b[0;32m--> 948\u001b[0;31m         \u001b[0mself\u001b[0m\u001b[0;34m.\u001b[0m\u001b[0m_make_engine\u001b[0m\u001b[0;34m(\u001b[0m\u001b[0mself\u001b[0m\u001b[0;34m.\u001b[0m\u001b[0mengine\u001b[0m\u001b[0;34m)\u001b[0m\u001b[0;34m\u001b[0m\u001b[0;34m\u001b[0m\u001b[0m\n\u001b[0m\u001b[1;32m    949\u001b[0m \u001b[0;34m\u001b[0m\u001b[0m\n\u001b[1;32m    950\u001b[0m     \u001b[0;32mdef\u001b[0m \u001b[0mclose\u001b[0m\u001b[0;34m(\u001b[0m\u001b[0mself\u001b[0m\u001b[0;34m)\u001b[0m\u001b[0;34m:\u001b[0m\u001b[0;34m\u001b[0m\u001b[0;34m\u001b[0m\u001b[0m\n",
            "\u001b[0;32m/usr/local/lib/python3.7/dist-packages/pandas/io/parsers.py\u001b[0m in \u001b[0;36m_make_engine\u001b[0;34m(self, engine)\u001b[0m\n\u001b[1;32m   1178\u001b[0m     \u001b[0;32mdef\u001b[0m \u001b[0m_make_engine\u001b[0m\u001b[0;34m(\u001b[0m\u001b[0mself\u001b[0m\u001b[0;34m,\u001b[0m \u001b[0mengine\u001b[0m\u001b[0;34m=\u001b[0m\u001b[0;34m\"c\"\u001b[0m\u001b[0;34m)\u001b[0m\u001b[0;34m:\u001b[0m\u001b[0;34m\u001b[0m\u001b[0;34m\u001b[0m\u001b[0m\n\u001b[1;32m   1179\u001b[0m         \u001b[0;32mif\u001b[0m \u001b[0mengine\u001b[0m \u001b[0;34m==\u001b[0m \u001b[0;34m\"c\"\u001b[0m\u001b[0;34m:\u001b[0m\u001b[0;34m\u001b[0m\u001b[0;34m\u001b[0m\u001b[0m\n\u001b[0;32m-> 1180\u001b[0;31m             \u001b[0mself\u001b[0m\u001b[0;34m.\u001b[0m\u001b[0m_engine\u001b[0m \u001b[0;34m=\u001b[0m \u001b[0mCParserWrapper\u001b[0m\u001b[0;34m(\u001b[0m\u001b[0mself\u001b[0m\u001b[0;34m.\u001b[0m\u001b[0mf\u001b[0m\u001b[0;34m,\u001b[0m \u001b[0;34m**\u001b[0m\u001b[0mself\u001b[0m\u001b[0;34m.\u001b[0m\u001b[0moptions\u001b[0m\u001b[0;34m)\u001b[0m\u001b[0;34m\u001b[0m\u001b[0;34m\u001b[0m\u001b[0m\n\u001b[0m\u001b[1;32m   1181\u001b[0m         \u001b[0;32melse\u001b[0m\u001b[0;34m:\u001b[0m\u001b[0;34m\u001b[0m\u001b[0;34m\u001b[0m\u001b[0m\n\u001b[1;32m   1182\u001b[0m             \u001b[0;32mif\u001b[0m \u001b[0mengine\u001b[0m \u001b[0;34m==\u001b[0m \u001b[0;34m\"python\"\u001b[0m\u001b[0;34m:\u001b[0m\u001b[0;34m\u001b[0m\u001b[0;34m\u001b[0m\u001b[0m\n",
            "\u001b[0;32m/usr/local/lib/python3.7/dist-packages/pandas/io/parsers.py\u001b[0m in \u001b[0;36m__init__\u001b[0;34m(self, src, **kwds)\u001b[0m\n\u001b[1;32m   1991\u001b[0m         \u001b[0;32mif\u001b[0m \u001b[0mkwds\u001b[0m\u001b[0;34m.\u001b[0m\u001b[0mget\u001b[0m\u001b[0;34m(\u001b[0m\u001b[0;34m\"compression\"\u001b[0m\u001b[0;34m)\u001b[0m \u001b[0;32mis\u001b[0m \u001b[0;32mNone\u001b[0m \u001b[0;32mand\u001b[0m \u001b[0mencoding\u001b[0m\u001b[0;34m:\u001b[0m\u001b[0;34m\u001b[0m\u001b[0;34m\u001b[0m\u001b[0m\n\u001b[1;32m   1992\u001b[0m             \u001b[0;32mif\u001b[0m \u001b[0misinstance\u001b[0m\u001b[0;34m(\u001b[0m\u001b[0msrc\u001b[0m\u001b[0;34m,\u001b[0m \u001b[0mstr\u001b[0m\u001b[0;34m)\u001b[0m\u001b[0;34m:\u001b[0m\u001b[0;34m\u001b[0m\u001b[0;34m\u001b[0m\u001b[0m\n\u001b[0;32m-> 1993\u001b[0;31m                 \u001b[0msrc\u001b[0m \u001b[0;34m=\u001b[0m \u001b[0mopen\u001b[0m\u001b[0;34m(\u001b[0m\u001b[0msrc\u001b[0m\u001b[0;34m,\u001b[0m \u001b[0;34m\"rb\"\u001b[0m\u001b[0;34m)\u001b[0m\u001b[0;34m\u001b[0m\u001b[0;34m\u001b[0m\u001b[0m\n\u001b[0m\u001b[1;32m   1994\u001b[0m                 \u001b[0mself\u001b[0m\u001b[0;34m.\u001b[0m\u001b[0mhandles\u001b[0m\u001b[0;34m.\u001b[0m\u001b[0mappend\u001b[0m\u001b[0;34m(\u001b[0m\u001b[0msrc\u001b[0m\u001b[0;34m)\u001b[0m\u001b[0;34m\u001b[0m\u001b[0;34m\u001b[0m\u001b[0m\n\u001b[1;32m   1995\u001b[0m \u001b[0;34m\u001b[0m\u001b[0m\n",
            "\u001b[0;31mFileNotFoundError\u001b[0m: [Errno 2] No such file or directory: 'csv/hockey_players.csv'"
          ]
        }
      ]
    },
    {
      "cell_type": "markdown",
      "metadata": {
        "id": "c4Bs4QM8KP5X"
      },
      "source": [
        "Для этого воспользуемся методом **corr ** из библиотеки **pandas**:"
      ]
    },
    {
      "cell_type": "code",
      "metadata": {
        "id": "IDixqzBQKP5b"
      },
      "source": [
        "corr_matrix = df.loc[:, ['height', 'weight']].corr()\n",
        "corr_matrix"
      ],
      "execution_count": null,
      "outputs": []
    },
    {
      "cell_type": "markdown",
      "metadata": {
        "id": "54n8mVpfKP5y"
      },
      "source": [
        "Мы получили матрицу корреляций. Корреляция между ростом и весом достаточно высока и имеет величину, почти равную 0.7:"
      ]
    },
    {
      "cell_type": "code",
      "metadata": {
        "id": "FG5WGiW-KP50"
      },
      "source": [
        "corr_matrix.loc['height', 'weight']"
      ],
      "execution_count": null,
      "outputs": []
    },
    {
      "cell_type": "markdown",
      "metadata": {
        "id": "E47g60aWKP6A"
      },
      "source": [
        "Величина корреляции положительна, так что можно сделать вывод, что чем выше рост хоккеиста, тем, как правило, больше его вес."
      ]
    },
    {
      "cell_type": "markdown",
      "metadata": {
        "id": "CD44TSUBKP6F"
      },
      "source": [
        "#### Взаимосвязь величин"
      ]
    },
    {
      "cell_type": "markdown",
      "metadata": {
        "id": "rShFAjXDKP6I"
      },
      "source": [
        "Если две величины коррелируют, это может свидетельствовать о наличии **статистической связи** между ними. Причем говорить о ней \n",
        "\n",
        "мы можем для величин из одной выборки, что не гарантирует того, что подобная связь встретится и в другой выборке и \n",
        "\n",
        "должна будет иметь такую же природу. \n",
        "\n",
        "Корреляционный анализ просто интерпретируется, поэтому статистик может сделать ложный вывод о том, что между этими признаками \n",
        "\n",
        "существует причинно-следственная связь. Такой вывод нельзя делать на основании коэффициента корреляции — можно лишь сказать, \n",
        "\n",
        "что между признаками есть статистическая взаимосвязь."
      ]
    },
    {
      "cell_type": "markdown",
      "metadata": {
        "collapsed": true,
        "id": "3G4ElBxJKP6K"
      },
      "source": [
        "Например, если рассмотреть данные о пожарах в городе, можно увидеть, что между материальными потерями, вызванными \n",
        "\n",
        "пожаром, и количеством пожарных, которые принимали участие в его тушении, есть сильная корреляция.\n",
        "\n",
        "При этом ложным будет вывод о том, что большое количество пожарных, присутствующих на пожаре, приводит к увеличению ущерба от него. Он может привести к неправильному решению — уменьшить бригаду пожарных, чтобы сократить материальные потери."
      ]
    },
    {
      "cell_type": "markdown",
      "metadata": {
        "id": "aSEcxm_nKP6M"
      },
      "source": [
        "Еще один пример того, как коррелирующие величины могут направить статистика по ложному следу: в городах с \n",
        "\n",
        "повышенным уровнем преступности зачастую количество полицейских тоже велико. Между количеством полицейских и преступностью есть \n",
        "\n",
        "положительная корреляция. Ложный вывод, который можно в таком случае сделать, —  решить, что причиной повышенной \n",
        "\n",
        "преступности стало увеличение штата полицейских, и сократить часть правоохранителей, чтобы снизить уровень преступности."
      ]
    },
    {
      "cell_type": "markdown",
      "metadata": {
        "id": "nbPvHdQ-KP6O"
      },
      "source": [
        "Если  ковариация не равна нулю, две случайные величины зависимы."
      ]
    },
    {
      "cell_type": "markdown",
      "metadata": {
        "id": "EbGcE3NeKP6Q"
      },
      "source": [
        "Высокая **корреляция** двух величин может свидетельствовать о том, что у них есть **общая причина** — несмотря на то, что \n",
        "\n",
        "прямого взаимодействия между двумя коррелирующими величинами нет. Например, наступление зимы может быть причиной и  роста \n",
        "\n",
        "заболеваемости простудой, и повышения расходов на отопление. Это как раз тот случай, когда две величины (число \n",
        "\n",
        "заболевших и расходы на отопление) коррелируют между собой, хотя они друг на друга напрямую не влияют.\n",
        "\n",
        "Зато у них есть общая причина — зимний сезон."
      ]
    },
    {
      "cell_type": "markdown",
      "metadata": {
        "id": "1G-oFP8LKP6R"
      },
      "source": [
        "Отсутствие корреляции между двумя величинами еще не говорит о том, что между показателями нет связи. \n",
        "\n",
        "Вполне возможно, что между признаками есть нелинейная зависимость, которую не может уловить коэффициент корреляции."
      ]
    },
    {
      "cell_type": "markdown",
      "metadata": {
        "id": "FRgWU11_KP6U"
      },
      "source": [
        "**Показатели корреляции**"
      ]
    },
    {
      "cell_type": "markdown",
      "metadata": {
        "id": "0hXxVoFuKP6V"
      },
      "source": [
        "В зависимости от характера переменных можно выбрать подходящий метод вычисления коэффициента корреляции.\n",
        "\n",
        "Для интервальных и количественных признаков используется коэффициент корреляции Пирсона ($r$), относящийся \n",
        "\n",
        "к параметрическим показателям корреляции. Если хотя бы один из двух признаков — порядковый \n",
        "\n",
        "или его распределение не является нормальным, применяют ранговую корреляцию Спирмена или $\\tau$ (тау) Кендалла — \n",
        "\n",
        "непараметрические показатели корреляции. "
      ]
    },
    {
      "cell_type": "markdown",
      "metadata": {
        "id": "i1J_ym-RKP6X"
      },
      "source": [
        "**Ковариация**"
      ]
    },
    {
      "cell_type": "markdown",
      "metadata": {
        "id": "uf6rvhfVKP6a"
      },
      "source": [
        "Ковариация, или корреляционный момент — параметрический показатель, позволяющий судить о совместном распределении \n",
        "\n",
        "двух признаков. Равна математическому ожиданию произведения отклонений случайных величин:"
      ]
    },
    {
      "cell_type": "markdown",
      "metadata": {
        "id": "l46rvHB5KP6f"
      },
      "source": [
        "$$cov_{XY} = M[(X - M(X))(Y - M(Y))] = M(XY) - M(X)M(Y)=\\overline{X \\cdot Y} - \\overline{X} \\cdot \\overline{Y}$$\n",
        "\n",
        "```\n",
        "# Выбран кодовый формат\n",
        "```\n",
        "\n"
      ]
    },
    {
      "cell_type": "markdown",
      "metadata": {
        "id": "yJVQYCbeKP6j"
      },
      "source": [
        "где $M$ — математическое ожидание, $\\overline{X} \\: и \\:\\overline{Y}$ — среднее значение выборок."
      ]
    },
    {
      "cell_type": "markdown",
      "metadata": {
        "id": "bRr95fd-KP6o"
      },
      "source": [
        "Размерность ковариации, которая равна произведению размерности случайных величин, имеет их масштаб, \n",
        "\n",
        "то есть величина ковариации зависит от единиц измерения независимых величин. В связи с этим ковариацию затруднительно \n",
        "\n",
        "применять для корреляционного анализа."
      ]
    },
    {
      "cell_type": "markdown",
      "metadata": {
        "id": "znWligpAKP6r"
      },
      "source": [
        "Зная ковариацию и среднее квадратичное отклонение каждого из двух признаков, можно вычислить коэффициент корреляции Пирсона:"
      ]
    },
    {
      "cell_type": "markdown",
      "metadata": {
        "id": "LkSxJhDYKP6u"
      },
      "source": [
        "$$r_{XY} = \\frac{cov_{XY}}{\\sigma_{X}\\sigma_{Y}}$$"
      ]
    },
    {
      "cell_type": "markdown",
      "metadata": {
        "id": "TgaYK2I-KP6w"
      },
      "source": [
        "**Корреляционный анализ**"
      ]
    },
    {
      "cell_type": "markdown",
      "metadata": {
        "id": "hjSiZTGUKP6y"
      },
      "source": [
        "Корреляционный анализ — метод обработки статистических данных, благодаря которому можно определить тесноту связи между\n",
        "\n",
        "несколькими показателями. Корреляционный анализ имеет тесную связь с регрессионным. Такой анализ принято называть \n",
        "\n",
        "корреляционно-регрессионным — используя его, можно определять включение и исключение показателей в уравнение \n",
        "\n",
        "множественной регрессии. А применяя коэффициент детерминации — проводить оценку полученного уравнение регрессии на соответствие \n",
        "\n",
        "выявленным связям."
      ]
    },
    {
      "cell_type": "markdown",
      "metadata": {
        "id": "A8aXQIbxKP61"
      },
      "source": [
        "**Ограничения корреляционного анализа**"
      ]
    },
    {
      "cell_type": "markdown",
      "metadata": {
        "id": "BnLGTC0LKP64"
      },
      "source": [
        "Рассмотрим следующие ограничения корреляционного анализа:\n",
        "\n",
        "1. Чтобы применять корреляционный анализ, требуется большое количество наблюдений.\n",
        "\n",
        "\n",
        "2. Совокупность факторных признаков и результирующего признака должна иметь многомерное нормальное распределение.\n",
        "\n",
        "\n",
        "3. Несмотря на простоту и наглядность метода, он не позволяет точно установить наличие причинно-следственной связи."
      ]
    },
    {
      "cell_type": "markdown",
      "metadata": {
        "id": "mAlAKIUfKP66"
      },
      "source": [
        "Корреляционный анализ используется во многих сферах: экономике, астрофизике, психологии, политологии и социологии.\n",
        "    \n",
        "Данный метод обработки информации популярен, так как прост в расчете и интерпретации,\n",
        "\n",
        "удобен при обработке статистической информации."
      ]
    },
    {
      "cell_type": "code",
      "metadata": {
        "id": "NSC8NCvoKP69"
      },
      "source": [
        ""
      ],
      "execution_count": null,
      "outputs": []
    }
  ]
}